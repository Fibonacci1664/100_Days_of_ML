{
  "nbformat": 4,
  "nbformat_minor": 0,
  "metadata": {
    "colab": {
      "provenance": [],
      "toc_visible": true
    },
    "kernelspec": {
      "name": "python3",
      "display_name": "Python 3"
    },
    "language_info": {
      "name": "python"
    }
  },
  "cells": [
    {
      "cell_type": "markdown",
      "source": [
        "# Day 5: Functions and Modules\n",
        "\n",
        "Functions are useful in two distinct scenarios: To repeat behavior without repeating an entire procedure, or to vary behavior based on the situation at hand. In programming, a function is a block of organized, reusable code used to perform a single, related action. They provide better modularity for your application and a high degree of code reusing.\n",
        "\n",
        "## Basic Structure of a Function\n",
        "\n",
        "In Python, a function is defined using the `def` keyword, followed by a function name and parentheses `()`. The code block within every function starts with a colon `:` and is indented.\n",
        "\n",
        "*Note about code blocks* - Keep your eyes peeled for **blocks** of code in Python. Whitespace is syntax: a code block shares the same level of indentation. Blocks always start with a line ending in a colon. When the indentation resumes its previous level, the block has ended.\n"
      ],
      "metadata": {
        "id": "2nbck2O3x0bg"
      }
    },
    {
      "cell_type": "code",
      "source": [
        "# definition\n",
        "def some_function():\n",
        "    print(\"Hello world!\")"
      ],
      "metadata": {
        "id": "HZTGpzg07qcy"
      },
      "execution_count": null,
      "outputs": []
    },
    {
      "cell_type": "code",
      "source": [
        "some_function() # function call"
      ],
      "metadata": {
        "colab": {
          "base_uri": "https://localhost:8080/"
        },
        "id": "ifTex8J67qqe",
        "outputId": "6cecfc58-2794-4dcd-f450-3c7944014608"
      },
      "execution_count": null,
      "outputs": [
        {
          "output_type": "stream",
          "name": "stdout",
          "text": [
            "Hello world!\n"
          ]
        }
      ]
    },
    {
      "cell_type": "markdown",
      "source": [
        "*Parameters and Arguments*: Parameters are variables listed inside the parentheses in the function definition. Arguments are the values passed to these parameters. Arguments are specified after the function name, inside the parentheses.\n",
        "\n",
        "*Return Values*: Functions can return values using the `return` statement. The return value can be any object, and a function can return multiple values."
      ],
      "metadata": {
        "id": "slUX-a9Vx0dw"
      }
    },
    {
      "cell_type": "code",
      "source": [
        "def do_math():\n",
        "    return 2 * 2\n",
        "\n",
        "x = do_math() # x takes the value of do_math()'s return value, 4."
      ],
      "metadata": {
        "id": "8xOV1H9Y7xUe"
      },
      "execution_count": null,
      "outputs": []
    },
    {
      "cell_type": "markdown",
      "source": [
        "## Writing Your First Function\n",
        "\n",
        "*Using `def` Keyword*: To create a function, use the `def` keyword, followed by a chosen function name and parentheses. Example: `def my_function():`. Empty parentheses indicate that the function takes no arguments.\n",
        "\n",
        "*Function Naming Conventions*: Function names should be lowercase, with words separated by underscores as necessary to improve readability.\n",
        "\n",
        "*Calling a Function*: To call a function, use the function name followed by parentheses. Example: `my_function()`. Arguments go inside the parentheses, and the function call's arguments must match up with the definition.\n",
        "\n",
        "A function can contain all the same variable definitions, mathematical operations, conditional statements, and loops that you're already familiar with. The only difference is that code written directly into your Python file or Jupyter notebook cell is executed immediately (\"sequentially\"); code inside a function is merely being defined. It won't execute until the function is called.\n",
        "\n",
        "## Parameters and Arguments\n",
        "\n",
        "*Understanding Local Variables*: Variables declared inside a function are called local variables. Their scope is limited to the function, meaning they can't be accessed outside of it.\n",
        "\n",
        "*Positional vs. Keyword Arguments*: Positional arguments are arguments that need to be included in the proper position or order. Keyword arguments are arguments accompanied by an identifier (e.g., `name='John'`) and can be listed in any order.\n",
        "\n",
        "*Default Parameter Values*: The value provided to a keyword argument in the function's definition is the **default value**, and it's not mandatory to provide a value for that argument to call the function. The value can be overridden by whatever value is provided when the function is called, though.\n",
        "\n",
        "*Using Keywords to Reorder Arguments*: With keyword arguments, the order of arguments can be shuffled, allowing more flexibility. Arguments passed in with no keyword have to match up with a position. Positional arguments can't follow keyword arguments.\n",
        "\n",
        "*Local vs. Global Variables*: Global variables are defined outside a function and can be accessed throughout the program, while local variables are confined within the function they are declared in.\n",
        "\n",
        "*Variable Shadowing*: Don't Do This. Avoid using the same name for local and global variables as it can lead to confusing \"shadowing\" effects, where the local variable \"shadows\" the global variable. The local variable will be used inside the function without modifying the global. This can be especially confusing for beginners, who may struggle with the same name being used for two separate variables in different scopes.\n",
        "\n",
        "Using the `global` keyword, you can explicitly name the global keyword, but this is generally regarded as a bad practice or anti-pattern. It's not necessary to call methods on objects from your enclosing scope, just to assign them -- see the examples below!\n",
        "\n"
      ],
      "metadata": {
        "id": "bEJbOKogx0f0"
      }
    },
    {
      "cell_type": "code",
      "source": [
        "x = 42 # global scope variable\n",
        "\n",
        "def g():\n",
        "  x = 50 # shadowing; don't do this. You didn't change global 'x'.\n",
        "\n",
        "def h():\n",
        "  global x\n",
        "  x += 1 # modifies global variable 'x'\n",
        "\n",
        "stuff = []\n",
        "\n",
        "def i():\n",
        "  stuff.append(\"thing\") # allowed. 'stuff' will be found in the global scope that encloses this function."
      ],
      "metadata": {
        "id": "5yHw8tdl74Cz"
      },
      "execution_count": null,
      "outputs": []
    },
    {
      "cell_type": "markdown",
      "source": [
        "### Test Your Understanding on Args\n",
        "\n",
        "Consider this function:"
      ],
      "metadata": {
        "id": "OLeB43DS9xRA"
      }
    },
    {
      "cell_type": "code",
      "source": [
        "def f(x, y=4):\n",
        "  z = 2 * x + y\n",
        "  print(f\"x = {x}, y = {y}, z = {z}\")\n",
        "  return z"
      ],
      "metadata": {
        "id": "oIcA-cNX9xZ5"
      },
      "execution_count": null,
      "outputs": []
    },
    {
      "cell_type": "markdown",
      "source": [
        "\n",
        "Questions:\n",
        "\n",
        "* What are the arguments?\n",
        "* Which ones are required to call the function?\n",
        "* What would the function print out if called with `f(6)`? How about `f(7, 2)`? How about `f(1, 2, 3)`? How about `f(y=2, x=3)`?\n",
        "\n",
        "Answers:\n",
        "\n",
        "* The arguments are `x` and `y`.\n",
        "* `x` is mandatory, `y` is optional with a default value of 4.\n",
        "* Function calls:\n",
        " - `f(6)` prints `x = 6, y = 4, z = 16`.\n",
        " - `f(7, 2)` prints `x = 7, y = 2, z = 16`.\n",
        " - `f(1, 2, 3)` causes a TypeError: you can't call a function with more arguments than it has defined.\n",
        " - `f(y=2, x=3)` prints `x = 3, y = 2, z = 8`. Note that the use of keywords has assigned the function's values by name, not by position.\n",
        "\n"
      ],
      "metadata": {
        "id": "SbXbVHeEx0iM"
      }
    },
    {
      "cell_type": "markdown",
      "source": [
        "## Return Values and `return` Statement\n",
        "\n",
        "  - *How to Return Data from a Function*: To send back a result from a function to its caller, use the `return` statement.\n",
        "\n",
        "  - *Multiple Return Values; Tuple Value Unpacking*: Functions in Python can return multiple values, usually in the form of a tuple, which can be unpacked into multiple variables.\n",
        "\n",
        "  - *None: The Default Return Value*: If no return statement is used, or the return statement does not have an accompanying value, the function returns `None`.\n",
        "\n",
        "### Test Your Understanding on Return Values\n",
        "\n",
        "Questions:\n",
        "\n",
        "* If we defined the function from the previous section and ran `n = f(2, 4)`, what would `n`'s value be?\n",
        "\n",
        "Answers:\n",
        "\n",
        "* Since functions evaluate to their return value, `n` is assigned the value that `f` returns (8).\n",
        "\n"
      ],
      "metadata": {
        "id": "kOEs3p83x0mu"
      }
    },
    {
      "cell_type": "markdown",
      "source": [
        "## Get New Functionality Fast Via Modules\n",
        "\n",
        "**Modules** are a way to bring complex capabilities into your Python programs with the use of the `import` keyword. The Python standard library is sometimes described as \"batteries included\", which includes functionality like: interacting with JSON data or CSV files, making web requests, mathematical functions, random numbers, interacting with dates and times, file compression, logging, cryptography, and the list goes on!\n",
        "\n",
        "Modules are also very important to the performance of Python programs. You may have heard that Python is a \"slow language\". This is more or less true in many circumstances. However, when you import a popular data science or machine learning library like Pandas, Scikit, Keras, or PyTorch, the module itself is written in another language and has very few performance constraints. Modules written in C, C++, or Rust can run at the speed of highly efficient compiled languages, then we use Python as \"glue code\" to load these modules, provide them with data, and utilize their output.\n",
        "\n",
        "### `import` Syntax\n",
        "\n",
        "When you `import` something, that module will become available in your script's namespace.\n",
        "\n",
        "\n",
        "\n"
      ],
      "metadata": {
        "id": "QAOm4Cnux0pA"
      }
    },
    {
      "cell_type": "code",
      "source": [
        "import math"
      ],
      "metadata": {
        "id": "6zBgrpuT8UtD"
      },
      "execution_count": null,
      "outputs": []
    },
    {
      "cell_type": "markdown",
      "source": [
        "\n",
        "After importing, the module is an object that you can interact with:"
      ],
      "metadata": {
        "id": "HYqF-aJt8Uzu"
      }
    },
    {
      "cell_type": "code",
      "source": [
        "math"
      ],
      "metadata": {
        "colab": {
          "base_uri": "https://localhost:8080/"
        },
        "id": "RQDZjV-W8U4z",
        "outputId": "a074c208-edea-42b4-861d-d193b235f537"
      },
      "execution_count": null,
      "outputs": [
        {
          "output_type": "execute_result",
          "data": {
            "text/plain": [
              "<module 'math' (built-in)>"
            ]
          },
          "metadata": {},
          "execution_count": 3
        }
      ]
    },
    {
      "cell_type": "code",
      "source": [
        "type(math)"
      ],
      "metadata": {
        "colab": {
          "base_uri": "https://localhost:8080/"
        },
        "id": "eJ9Vq1aO8bQ4",
        "outputId": "5a45266f-97ec-4f57-aadb-9c1abdd211cf"
      },
      "execution_count": null,
      "outputs": [
        {
          "output_type": "execute_result",
          "data": {
            "text/plain": [
              "module"
            ]
          },
          "metadata": {},
          "execution_count": 4
        }
      ]
    },
    {
      "cell_type": "markdown",
      "source": [
        "In fact, if you save any Python code in a `.py` file in the same directory as your notebook or additional files, you can import them as modules and access their contents. Just like using a function on any other object, you can use the dot operator (`.`) to access the contents of a module. Modules can contain any Python object."
      ],
      "metadata": {
        "id": "irZdIdbR8LSk"
      }
    },
    {
      "cell_type": "code",
      "source": [
        "math.pi"
      ],
      "metadata": {
        "colab": {
          "base_uri": "https://localhost:8080/"
        },
        "id": "dDK7VzAC8Ldd",
        "outputId": "4fd0fb77-8d04-455b-c51f-244d3132556b"
      },
      "execution_count": null,
      "outputs": [
        {
          "output_type": "execute_result",
          "data": {
            "text/plain": [
              "3.141592653589793"
            ]
          },
          "metadata": {},
          "execution_count": 5
        }
      ]
    },
    {
      "cell_type": "code",
      "source": [
        "math.pow"
      ],
      "metadata": {
        "colab": {
          "base_uri": "https://localhost:8080/"
        },
        "id": "VYo-Mb2H8k5N",
        "outputId": "0de07491-fef3-4b0a-8679-d4767b2e232a"
      },
      "execution_count": null,
      "outputs": [
        {
          "output_type": "execute_result",
          "data": {
            "text/plain": [
              "<function math.pow(x, y, /)>"
            ]
          },
          "metadata": {},
          "execution_count": 6
        }
      ]
    },
    {
      "cell_type": "markdown",
      "source": [
        "\n",
        "The name of the module is not forced upon you, though. You can change the name of something at the time of import, or simply import all of the contents into your current namespace. The `import ... as ...` syntax allows you to import a module with a specific new name. Here's one you'll see frequently:\n"
      ],
      "metadata": {
        "id": "Mitt2dg58rHR"
      }
    },
    {
      "cell_type": "code",
      "source": [
        "import matplotlib.pyplot as plt"
      ],
      "metadata": {
        "id": "3CoUovqk8rPH"
      },
      "execution_count": null,
      "outputs": []
    },
    {
      "cell_type": "markdown",
      "source": [
        "The module `matplotlib` contains a module `pyplot`, and typing `matplotlib.pyplot` dozens of times in your code would be exhausting. When importing `as`, the given name `plt` becomes an alias for the module."
      ],
      "metadata": {
        "id": "7yeJONC_8rUj"
      }
    },
    {
      "cell_type": "markdown",
      "source": [
        "You can import specific parts of a module, leaving the rest behind:"
      ],
      "metadata": {
        "id": "ZCQzMvl_8zm_"
      }
    },
    {
      "cell_type": "code",
      "source": [
        "from math import pi"
      ],
      "metadata": {
        "id": "SAMuIay-8raT"
      },
      "execution_count": null,
      "outputs": []
    },
    {
      "cell_type": "markdown",
      "source": [
        "This would solely create a variable `pi`, no dots required, sourced from the `math` module.\n",
        "\n",
        "Use this sparingly, but it's possible to import all of the contents of a module without using a dot operator."
      ],
      "metadata": {
        "id": "VqY_sF2u8rfJ"
      }
    },
    {
      "cell_type": "code",
      "source": [
        "from math import *"
      ],
      "metadata": {
        "id": "fyHoT1Xj8rk6"
      },
      "execution_count": null,
      "outputs": []
    },
    {
      "cell_type": "markdown",
      "source": [
        "\n",
        "This would bring all of the contents into your current file; variables or functions like `pi` or `pow` would now be available directly. It's often not recommended because it's difficult to trace back a variable to the module it comes from. If you are using your own `.py` files to encapsulate imports and definitions, it's occasionally OK to do this. Readability is greatly impacted, so use star imports with great caution.\n",
        "\n",
        "### Standard Library Highlights\n",
        "\n",
        "There's no way I could summarize the standard library adequately. As homework, peruse the [Python Standard Library documentation](https://docs.python.org/3/library/index.html).\n",
        "\n",
        "* the `random` module: very handy for games or testing your functions with a lot of diverse input."
      ],
      "metadata": {
        "id": "xjJsYu0c8sEi"
      }
    },
    {
      "cell_type": "code",
      "source": [
        "import random\n",
        "dice_roll = random.randint(1, 6)\n",
        "random.random() # float between 0.0 and 1.0"
      ],
      "metadata": {
        "colab": {
          "base_uri": "https://localhost:8080/"
        },
        "id": "d1v7PMm18sKv",
        "outputId": "e7b6a005-d204-4784-fc39-1b9f3850ad10"
      },
      "execution_count": null,
      "outputs": [
        {
          "output_type": "execute_result",
          "data": {
            "text/plain": [
              "0.2581097599328793"
            ]
          },
          "metadata": {},
          "execution_count": 10
        }
      ]
    },
    {
      "cell_type": "markdown",
      "source": [
        "* the `json` module: important for sending and retrieving data over web services or saving to file."
      ],
      "metadata": {
        "id": "ZAIJ9GTb9JJB"
      }
    },
    {
      "cell_type": "code",
      "source": [
        "import json\n",
        "data = {'a': 1, 'b': 2}\n",
        "txt = json.dumps(data) # dump to string\n",
        "loaded = json.loads(txt) # load from string"
      ],
      "metadata": {
        "id": "RveHQblH9JRf"
      },
      "execution_count": null,
      "outputs": []
    },
    {
      "cell_type": "markdown",
      "source": [
        "* the `time` module: for measuring elapsed time or deliberately slowing down your program."
      ],
      "metadata": {
        "id": "KYHB9oS49JXo"
      }
    },
    {
      "cell_type": "code",
      "source": [
        "import time\n",
        "start = time.time()\n",
        "for i in range(5):\n",
        "  print(\".\", end='')\n",
        "  time.sleep(2)\n",
        "print()\n",
        "end = time.time()\n",
        "print(f\"Elapsed: {end - start:.2f} seconds\")"
      ],
      "metadata": {
        "colab": {
          "base_uri": "https://localhost:8080/"
        },
        "id": "ea43e_039Jdy",
        "outputId": "0f4aa051-9084-4174-90bf-e304962cc4d4"
      },
      "execution_count": null,
      "outputs": [
        {
          "output_type": "stream",
          "name": "stdout",
          "text": [
            ".....\n",
            "Elapsed: 10.01 seconds\n"
          ]
        }
      ]
    },
    {
      "cell_type": "markdown",
      "source": [
        "* the `datetime` module: for interacting with calendars, timestamps, timezones, and durations."
      ],
      "metadata": {
        "id": "HhCYh-1p9Jh0"
      }
    },
    {
      "cell_type": "code",
      "source": [
        "from datetime import datetime\n",
        "print(datetime.now())"
      ],
      "metadata": {
        "colab": {
          "base_uri": "https://localhost:8080/"
        },
        "id": "AvrwznFx9Jmv",
        "outputId": "a7bd383c-3136-424b-80ab-4c72561f6a12"
      },
      "execution_count": null,
      "outputs": [
        {
          "output_type": "stream",
          "name": "stdout",
          "text": [
            "2024-01-13 13:47:20.590119\n"
          ]
        }
      ]
    },
    {
      "cell_type": "markdown",
      "source": [
        "### Every AI/ML Developer Must Know NumPy\n",
        "\n",
        "Let's introduce NumPy by demonstrating the matrix multiplication required in a linear regression calculation. We'll compute the loss, which is a measure of how far our model's predictions are from the actual outcomes.\n",
        "\n",
        "Here's the step-by-step process:\n",
        "\n",
        "1. **Import NumPy Library**\n",
        "   - First, we import NumPy: `import numpy as np`\n",
        "\n",
        "2. **Define Coefficients and Data**\n",
        "   - Suppose we have a linear model with coefficients `a` and `b` (for a simple linear equation `y = ax + b`). We'll represent these as a NumPy array:\n",
        "     ```python\n",
        "     coefficients = np.array([a, b])\n",
        "     ```\n",
        "   - Let's also define our data points. In a simple linear regression, we often have input (`x`) and output (`y`) pairs. For this example, `x` and `y` are both arrays. Our `x` data needs an additional column of ones to account for the intercept `b`:\n",
        "     ```python\n",
        "     x_data = np.array([[x1, 1], [x2, 1], ..., [xn, 1]])\n",
        "     y_data = np.array([y1, y2, ..., yn])\n",
        "     ```\n",
        "\n",
        "3. **Perform Matrix Multiplication for Prediction**\n",
        "   - We compute the predicted `y` values (`y_pred`) using matrix multiplication between our data (`x_data`) and coefficients. In NumPy, matrix multiplication is done using the `@` operator or `np.dot()` function:\n",
        "     ```python\n",
        "     y_pred = x_data @ coefficients\n",
        "     ```\n",
        "\n",
        "4. **Compute the Loss**\n",
        "   - The loss function quantifies how far our predictions are from the actual values. A common loss function in linear regression is Mean Squared Error (MSE), calculated as the average of the squares of the differences between actual (`y_data`) and predicted (`y_pred`) values:\n",
        "     ```python\n",
        "     loss = np.mean((y_data - y_pred) ** 2)\n",
        "     ```\n"
      ],
      "metadata": {
        "id": "1nuDvfVU9JsB"
      }
    },
    {
      "cell_type": "code",
      "source": [
        "import numpy as np\n",
        "\n",
        "# Example coefficients for the linear model (y = ax + b)\n",
        "a, b = 2, 1  # Replace with actual values\n",
        "coefficients = np.array([a, b])\n",
        "\n",
        "# Example data (Replace with actual data points)\n",
        "x_data = np.array([[1, 1], [2, 1], [3, 1]])  # Add a column of ones for the intercept\n",
        "y_data = np.array([3, 5, 7])  # Actual y values\n",
        "\n",
        "# Predict y using matrix multiplication\n",
        "y_pred = x_data @ coefficients\n",
        "\n",
        "# Calculate the loss (Mean Squared Error)\n",
        "loss = np.mean((y_data - y_pred) ** 2)\n",
        "\n",
        "print(\"Predicted y:\", y_pred)\n",
        "print(\"Loss (MSE):\", loss)"
      ],
      "metadata": {
        "colab": {
          "base_uri": "https://localhost:8080/"
        },
        "id": "_rLdzX999JwV",
        "outputId": "d3de7fad-9b00-4648-b990-2c204fcac3d7"
      },
      "execution_count": null,
      "outputs": [
        {
          "output_type": "stream",
          "name": "stdout",
          "text": [
            "Predicted y: [3 5 7]\n",
            "Loss (MSE): 0.0\n"
          ]
        }
      ]
    },
    {
      "cell_type": "markdown",
      "source": [
        "## Week 1 mini-project\n",
        "\n",
        "Synthesize everything you've learned so far into one program that solves a problem. Here are some examples:\n",
        "\n",
        "### Number Guessing Game\n",
        "\n",
        "Program Specification:\n",
        "\n",
        "The Number Guessing Game selects a random number within a specified range (e.g., 1 to 100). The user is prompted to guess this number. After each guess, the program provides feedback: either the user guessed correctly, or their guess was too high or too low. The user continues to guess until they find the correct number. The program should keep track of the number of attempts made by the user and display this number once they have successfully guessed the correct number. Inputs include the user's guesses, and outputs are the feedback messages and the total number of attempts once the game is successfully completed. Give the user a meaningful score based on their performance."
      ],
      "metadata": {
        "id": "NPBYHF1dAsri"
      }
    },
    {
      "cell_type": "code",
      "source": [
        "import random\n",
        "import math\n",
        "\n",
        "def guess():\n",
        "    \"\"\"Function to get a valid integer guess from the user.\"\"\"\n",
        "    while True:\n",
        "        try:\n",
        "            user_input = int(input(\"Enter your guess: \"))\n",
        "            return user_input\n",
        "        except ValueError:\n",
        "            print(\"Invalid input. Please enter a valid integer.\")\n",
        "\n",
        "def calculate_score(attempts, range_size):\n",
        "    \"\"\"Calculate score based on attempts and range size.\"\"\"\n",
        "    # Score calculation:\n",
        "    # 100% for attempts fewer than binary search worst case (log2(range_size))\n",
        "    # 0% for attempts equal to range_size (guessing every number)\n",
        "    worst_case_binary_search = round(math.log2(range_size))\n",
        "    if attempts < worst_case_binary_search:\n",
        "        return 100\n",
        "    elif attempts > range_size:\n",
        "        return 0\n",
        "    else:\n",
        "        # Linear interpolation between the two extremes\n",
        "        return round(100 * (1 - (attempts - worst_case_binary_search) / (range_size - worst_case_binary_search)))\n",
        "\n",
        "def guessing_game(min_value=1, max_value=100):\n",
        "    \"\"\"Number guessing game with configurable range and scoring system.\"\"\"\n",
        "    number_to_guess = random.randint(min_value, max_value)\n",
        "    attempts = 0\n",
        "    range_size = max_value - min_value + 1\n",
        "\n",
        "    while True:\n",
        "        user_guess = guess()\n",
        "        attempts += 1\n",
        "\n",
        "        if user_guess == number_to_guess:\n",
        "            score = calculate_score(attempts, range_size)\n",
        "            print(f\"Congratulations! You guessed the right number in {attempts} attempts. Your score is {score}%.\")\n",
        "            break\n",
        "        elif user_guess < number_to_guess:\n",
        "            print(\"Too low. Try again.\")\n",
        "        else:\n",
        "            print(\"Too high. Try again.\")\n",
        "\n",
        "# Call the game function with custom range if desired\n",
        "guessing_game(1, 100)\n"
      ],
      "metadata": {
        "colab": {
          "base_uri": "https://localhost:8080/"
        },
        "id": "-COg4t6-ApKR",
        "outputId": "8f489e8c-3b26-45ea-d232-1e32b4017ed4"
      },
      "execution_count": null,
      "outputs": [
        {
          "output_type": "stream",
          "name": "stdout",
          "text": [
            "Enter your guess: 50\n",
            "Too high. Try again.\n",
            "Enter your guess: 25\n",
            "Too low. Try again.\n",
            "Enter your guess: 38\n",
            "Too high. Try again.\n",
            "Enter your guess: 31\n",
            "Too high. Try again.\n",
            "Enter your guess: 28\n",
            "Congratulations! You guessed the right number in 5 attempts. Your score is 100%.\n"
          ]
        }
      ]
    },
    {
      "cell_type": "code",
      "source": [
        "guessing_game(1, 100)"
      ],
      "metadata": {
        "colab": {
          "base_uri": "https://localhost:8080/"
        },
        "id": "35z5e7qxBJKT",
        "outputId": "0a2cedcf-0476-4313-ba13-a0c4be145520"
      },
      "execution_count": null,
      "outputs": [
        {
          "output_type": "stream",
          "name": "stdout",
          "text": [
            "Enter your guess: 50\n",
            "Too low. Try again.\n",
            "Enter your guess: 75\n",
            "Too low. Try again.\n",
            "Enter your guess: 88\n",
            "Too high. Try again.\n",
            "Enter your guess: 81\n",
            "Too low. Try again.\n",
            "Enter your guess: 84\n",
            "Too low. Try again.\n",
            "Enter your guess: 86\n",
            "Too high. Try again.\n",
            "Enter your guess: 85\n",
            "Congratulations! You guessed the right number in 7 attempts. Your score is 100%.\n"
          ]
        }
      ]
    },
    {
      "cell_type": "markdown",
      "source": [
        "### Basic Quiz Game\n",
        "\n",
        "Program Specification:\n",
        "The Basic Quiz Game presents a series of questions to the user, each with multiple choice answers. The user selects their answer for each question, and the program records this selection. After all questions have been answered, the program calculates the total number of correct answers and displays the user's score. Inputs are the user's answers to each question, and the output is the user's total score. The program can optionally display correct answers for the questions the user got wrong.\n",
        "\n",
        "In my example solution, I've added a few other features:\n",
        "* JSON file format to load questions from disk.\n",
        "* bonus points for answering quickly.\n",
        "* shuffle the answers around when displaying the question."
      ],
      "metadata": {
        "id": "PQgvU9PIDmg9"
      }
    },
    {
      "cell_type": "code",
      "source": [
        "import json\n",
        "import time\n",
        "import random\n",
        "\n",
        "def example_quiz(filename):\n",
        "    \"\"\"Create a sample quiz and save it to a JSON file.\"\"\"\n",
        "    sample_quiz = [\n",
        "        {\n",
        "            \"question\": \"What is the capital of France?\",\n",
        "            \"answer\": \"Paris\",\n",
        "            \"wrong_answers\": [\"Rome\", \"London\"]\n",
        "        },\n",
        "        # Add more questions in the same format\n",
        "    ]\n",
        "    with open(filename, 'w') as file:\n",
        "        json.dump(sample_quiz, file, indent=4)\n",
        "\n",
        "def load_quiz(filename):\n",
        "    \"\"\"Load quiz questions from a JSON file.\"\"\"\n",
        "    with open(filename, 'r') as file:\n",
        "        quiz = json.load(file)\n",
        "        # Check each question for at least two wrong answers\n",
        "        for question in quiz:\n",
        "            if len(question[\"wrong_answers\"]) < 2:\n",
        "                raise ValueError(\"Each question must have at least two wrong answers.\")\n",
        "        return quiz\n",
        "\n",
        "# Uncomment to create a sample quiz file\n",
        "example_quiz(\"sample_quiz.json\")\n"
      ],
      "metadata": {
        "id": "TAB-boNfDv9q"
      },
      "execution_count": null,
      "outputs": []
    },
    {
      "cell_type": "code",
      "source": [
        "def quiz_game(filename):\n",
        "    questions = load_quiz(filename)\n",
        "    total_score = 0\n",
        "\n",
        "    for question in questions:\n",
        "        attempts = 0\n",
        "\n",
        "        print(question[\"question\"])\n",
        "        all_answers = question[\"wrong_answers\"] + [question[\"answer\"]]\n",
        "        random.shuffle(all_answers)\n",
        "\n",
        "        # Automatically generate letters for answers\n",
        "        for i, answer in enumerate(all_answers):\n",
        "            print(f\"{chr(97 + i)}. {answer}\")\n",
        "\n",
        "        while attempts < 2:\n",
        "          start_time = time.time()\n",
        "          user_answer = input(\"Your answer: \").strip().lower()\n",
        "          end_time = time.time()\n",
        "          time_taken = end_time - start_time\n",
        "\n",
        "          correct_answer_index = chr(97 + all_answers.index(question[\"answer\"]))\n",
        "          if user_answer == correct_answer_index:\n",
        "              if attempts == 1:  # Assuming 'attempts' variable tracks the attempt count\n",
        "                  total_score += 0.5\n",
        "              elif time_taken < 5:\n",
        "                  total_score += 3\n",
        "              elif time_taken < 10:\n",
        "                  total_score += 2\n",
        "              else:\n",
        "                  total_score += 1\n",
        "              print(f\"Correct! {time_taken:.1f} seconds to answer.\")\n",
        "              break\n",
        "          else:\n",
        "              if attempts > 0:\n",
        "                print(\"Wrong! The correct answer was\", question[\"answer\"])\n",
        "                break\n",
        "              else:\n",
        "                print(\"Wrong! Try again?\")\n",
        "                attempts += 1\n",
        "\n",
        "    print(f\"Your total score is {total_score}.\")\n",
        "\n",
        "\n"
      ],
      "metadata": {
        "id": "u6fu44qiEIrU"
      },
      "execution_count": null,
      "outputs": []
    },
    {
      "cell_type": "code",
      "source": [
        "quiz_game(\"sample_quiz.json\")"
      ],
      "metadata": {
        "colab": {
          "base_uri": "https://localhost:8080/"
        },
        "id": "B3bsIn7cEOKA",
        "outputId": "0890d9b5-a581-4f37-ff4b-973a47658b70"
      },
      "execution_count": null,
      "outputs": [
        {
          "output_type": "stream",
          "name": "stdout",
          "text": [
            "What is the capital of France?\n",
            "a. Paris\n",
            "b. London\n",
            "c. Rome\n",
            "Your answer: a\n",
            "Correct! 3.3 seconds to answer.\n",
            "Your total score is 3.\n"
          ]
        }
      ]
    },
    {
      "cell_type": "code",
      "source": [
        "quiz_game(\"sample_quiz.json\")"
      ],
      "metadata": {
        "colab": {
          "base_uri": "https://localhost:8080/"
        },
        "id": "_udmJhMxERyg",
        "outputId": "e232d36a-6982-478d-80d1-e27fe6a447cf"
      },
      "execution_count": null,
      "outputs": [
        {
          "output_type": "stream",
          "name": "stdout",
          "text": [
            "What is the capital of France?\n",
            "a. Paris\n",
            "b. London\n",
            "c. Rome\n",
            "Your answer: a\n",
            "Correct! 3.9 seconds to answer.\n",
            "Your total score is 3.\n"
          ]
        }
      ]
    },
    {
      "cell_type": "code",
      "source": [
        "quiz_game(\"sample_quiz.json\")"
      ],
      "metadata": {
        "colab": {
          "base_uri": "https://localhost:8080/"
        },
        "id": "SKPTFyiwFp-Q",
        "outputId": "e6685929-a38e-4ca7-c7fb-a6b716fb47de"
      },
      "execution_count": null,
      "outputs": [
        {
          "output_type": "stream",
          "name": "stdout",
          "text": [
            "What is the capital of France?\n",
            "a. Rome\n",
            "b. London\n",
            "c. Paris\n",
            "Your answer: a\n",
            "Wrong! Try again?\n",
            "Your answer: c\n",
            "Correct! 2.9 seconds to answer.\n",
            "Your total score is 0.5.\n"
          ]
        }
      ]
    },
    {
      "cell_type": "code",
      "source": [
        "quiz_game(\"sample_quiz.json\")"
      ],
      "metadata": {
        "colab": {
          "base_uri": "https://localhost:8080/"
        },
        "id": "Avo9aleaFs5r",
        "outputId": "1a6bbd31-cdac-48db-e2c3-b453ba0292ff"
      },
      "execution_count": null,
      "outputs": [
        {
          "output_type": "stream",
          "name": "stdout",
          "text": [
            "What is the capital of France?\n",
            "a. London\n",
            "b. Paris\n",
            "c. Rome\n",
            "Your answer: b\n",
            "Correct! 3.8 seconds to answer.\n",
            "Your total score is 3.\n"
          ]
        }
      ]
    },
    {
      "cell_type": "markdown",
      "source": [
        "## Your Prompt\n",
        "\n",
        "Feel free to make up your own project, if you have any ideas. If you can't think of something, choose an example prompt or pick them apart for inspiration:\n",
        "\n",
        "### Simple Contact Book Application\n",
        "\n",
        "Program Specification:\n",
        "The Simple Contact Book Application allows users to store, retrieve, edit, and delete contact information including names, phone numbers, and email addresses. The user interface should enable adding new contacts, displaying all contacts, searching for a specific contact, editing existing contacts, and deleting contacts. Inputs include user commands for different actions (add, view, search, edit, delete) and the relevant contact details for each action. Outputs are the display of contact information or confirmation messages of successful operations. The program should handle invalid inputs gracefully and provide user-friendly error messages.\n",
        "\n",
        "### Warehouse Ordering System\n",
        "\n",
        "Program Specification:\n",
        "The Warehouse Ordering System manages inventory and processes orders for a warehouse. It should allow users to add new items to the inventory, update existing items, remove items, and process orders. Each inventory item should include details such as item ID, name, quantity, and price. The system should enable viewing current inventory, adding new orders, and updating inventory based on orders. Inputs include inventory management commands (add, update, remove) and order details (item ID, quantity). Outputs are the current status of the inventory and confirmation of order processing. The system should also provide warnings for low stock levels and handle errors in inventory management.\n",
        "\n",
        "### Fast Food Shop Cash Register Program\n",
        "\n",
        "Program Specification:\n",
        "The Fast Food Shop Cash Register Program is designed to manage customer orders at a fast food shop. The program should allow users to create new orders, add items to orders, and finalize orders with a total cost calculation, including applicable taxes. Each menu item should have a name and price. Inputs include commands to manage orders (create, add items, finalize) and customer choices. Outputs are the details of the order, including items ordered and the total cost. The program should also provide options for handling special requests or modifications to standard menu items and manage errors or invalid inputs effectively."
      ],
      "metadata": {
        "id": "k8aef7q9F24O"
      }
    },
    {
      "cell_type": "code",
      "source": [
        "class ContactBook:\n",
        "    def __init__(self):\n",
        "        self.contacts = {}\n",
        "\n",
        "    def add_contact(self, name, phone, email):\n",
        "        if name not in self.contacts:\n",
        "            self.contacts[name] = {'phone': phone, 'email': email}\n",
        "            print(f\"Contact {name} added successfully.\")\n",
        "        else:\n",
        "            print(f\"Contact {name} already exists. Use 'edit' to update information.\")\n",
        "\n",
        "    def view_contacts(self):\n",
        "        if not self.contacts:\n",
        "            print(\"No contacts available.\")\n",
        "        else:\n",
        "            for name, details in self.contacts.items():\n",
        "                print(f\"Name: {name}, Phone: {details['phone']}, Email: {details['email']}\")\n",
        "\n",
        "    def search_contact(self, name):\n",
        "        if name in self.contacts:\n",
        "            details = self.contacts[name]\n",
        "            print(f\"Name: {name}, Phone: {details['phone']}, Email: {details['email']}\")\n",
        "        else:\n",
        "            print(f\"Contact {name} not found.\")\n",
        "\n",
        "    def edit_contact(self, name, phone=None, email=None):\n",
        "        if name in self.contacts:\n",
        "            if phone:\n",
        "                self.contacts[name]['phone'] = phone\n",
        "            if email:\n",
        "                self.contacts[name]['email'] = email\n",
        "            print(f\"Contact {name} updated successfully.\")\n",
        "        else:\n",
        "            print(f\"Contact {name} not found.\")\n",
        "\n",
        "    def delete_contact(self, name):\n",
        "        if name in self.contacts:\n",
        "            del self.contacts[name]\n",
        "            print(f\"Contact {name} deleted successfully.\")\n",
        "        else:\n",
        "            print(f\"Contact {name} not found.\")\n",
        "\n",
        "\n",
        "def main():\n",
        "    contact_book = ContactBook()\n",
        "\n",
        "    while True:\n",
        "        print(\"\\nSimple Contact Book Application\")\n",
        "        print(\"1. Add Contact\")\n",
        "        print(\"2. View Contacts\")\n",
        "        print(\"3. Search Contact\")\n",
        "        print(\"4. Edit Contact\")\n",
        "        print(\"5. Delete Contact\")\n",
        "        print(\"6. Exit\")\n",
        "\n",
        "        choice = input(\"Enter your choice (1-6): \")\n",
        "\n",
        "        if choice == '1':\n",
        "            name = input(\"Enter name: \")\n",
        "            phone = input(\"Enter phone number: \")\n",
        "            email = input(\"Enter email address: \")\n",
        "            contact_book.add_contact(name, phone, email)\n",
        "\n",
        "        elif choice == '2':\n",
        "            contact_book.view_contacts()\n",
        "\n",
        "        elif choice == '3':\n",
        "            name = input(\"Enter name to search: \")\n",
        "            contact_book.search_contact(name)\n",
        "\n",
        "        elif choice == '4':\n",
        "            name = input(\"Enter name to edit: \")\n",
        "            phone = input(\"Enter new phone number (press Enter to keep current): \")\n",
        "            email = input(\"Enter new email address (press Enter to keep current): \")\n",
        "            contact_book.edit_contact(name, phone, email)\n",
        "\n",
        "        elif choice == '5':\n",
        "            name = input(\"Enter name to delete: \")\n",
        "            contact_book.delete_contact(name)\n",
        "\n",
        "        elif choice == '6':\n",
        "            print(\"Exiting program. Goodbye!\")\n",
        "            break\n",
        "\n",
        "        else:\n",
        "            print(\"Invalid choice. Please enter a number between 1 and 6.\")\n",
        "\n",
        "\n",
        "if __name__ == \"__main__\":\n",
        "    main()\n"
      ],
      "metadata": {
        "id": "Qq5fURSgHSjv",
        "colab": {
          "base_uri": "https://localhost:8080/"
        },
        "outputId": "9daba6b0-2eec-4e4d-a172-6c82bc4e3d4a"
      },
      "execution_count": 1,
      "outputs": [
        {
          "output_type": "stream",
          "name": "stdout",
          "text": [
            "\n",
            "Simple Contact Book Application\n",
            "1. Add Contact\n",
            "2. View Contacts\n",
            "3. Search Contact\n",
            "4. Edit Contact\n",
            "5. Delete Contact\n",
            "6. Exit\n",
            "Enter your choice (1-6): 1\n",
            "Enter name: Dave\n",
            "Enter phone number: 07528644320\n",
            "Enter email address: dave@dave.com\n",
            "Contact Dave added successfully.\n",
            "\n",
            "Simple Contact Book Application\n",
            "1. Add Contact\n",
            "2. View Contacts\n",
            "3. Search Contact\n",
            "4. Edit Contact\n",
            "5. Delete Contact\n",
            "6. Exit\n",
            "Enter your choice (1-6): 2\n",
            "Name: Dave, Phone: 07528644320, Email: dave@dave.com\n",
            "\n",
            "Simple Contact Book Application\n",
            "1. Add Contact\n",
            "2. View Contacts\n",
            "3. Search Contact\n",
            "4. Edit Contact\n",
            "5. Delete Contact\n",
            "6. Exit\n",
            "Enter your choice (1-6): 3\n",
            "Enter name to search: Bob\n",
            "Contact Bob not found.\n",
            "\n",
            "Simple Contact Book Application\n",
            "1. Add Contact\n",
            "2. View Contacts\n",
            "3. Search Contact\n",
            "4. Edit Contact\n",
            "5. Delete Contact\n",
            "6. Exit\n",
            "Enter your choice (1-6): 3\n",
            "Enter name to search: Dave\n",
            "Name: Dave, Phone: 07528644320, Email: dave@dave.com\n",
            "\n",
            "Simple Contact Book Application\n",
            "1. Add Contact\n",
            "2. View Contacts\n",
            "3. Search Contact\n",
            "4. Edit Contact\n",
            "5. Delete Contact\n",
            "6. Exit\n",
            "Enter your choice (1-6): 4\n",
            "Enter name to edit: Bob\n",
            "Enter new phone number (press Enter to keep current): 5678\n",
            "Enter new email address (press Enter to keep current): bob@bob.com\n",
            "Contact Bob not found.\n",
            "\n",
            "Simple Contact Book Application\n",
            "1. Add Contact\n",
            "2. View Contacts\n",
            "3. Search Contact\n",
            "4. Edit Contact\n",
            "5. Delete Contact\n",
            "6. Exit\n",
            "Enter your choice (1-6): 4\n",
            "Enter name to edit: dave\n",
            "Enter new phone number (press Enter to keep current): 5678\n",
            "Enter new email address (press Enter to keep current): fgh\n",
            "Contact dave not found.\n",
            "\n",
            "Simple Contact Book Application\n",
            "1. Add Contact\n",
            "2. View Contacts\n",
            "3. Search Contact\n",
            "4. Edit Contact\n",
            "5. Delete Contact\n",
            "6. Exit\n",
            "Enter your choice (1-6): 4\n",
            "Enter name to edit: Dave\n",
            "Enter new phone number (press Enter to keep current): 1234\n",
            "Enter new email address (press Enter to keep current): dave\n",
            "Contact Dave updated successfully.\n",
            "\n",
            "Simple Contact Book Application\n",
            "1. Add Contact\n",
            "2. View Contacts\n",
            "3. Search Contact\n",
            "4. Edit Contact\n",
            "5. Delete Contact\n",
            "6. Exit\n",
            "Enter your choice (1-6): 2\n",
            "Name: Dave, Phone: 1234, Email: dave\n",
            "\n",
            "Simple Contact Book Application\n",
            "1. Add Contact\n",
            "2. View Contacts\n",
            "3. Search Contact\n",
            "4. Edit Contact\n",
            "5. Delete Contact\n",
            "6. Exit\n",
            "Enter your choice (1-6): 5\n",
            "Enter name to delete: Bob\n",
            "Contact Bob not found.\n",
            "\n",
            "Simple Contact Book Application\n",
            "1. Add Contact\n",
            "2. View Contacts\n",
            "3. Search Contact\n",
            "4. Edit Contact\n",
            "5. Delete Contact\n",
            "6. Exit\n",
            "Enter your choice (1-6): 5\n",
            "Enter name to delete: Dave\n",
            "Contact Dave deleted successfully.\n",
            "\n",
            "Simple Contact Book Application\n",
            "1. Add Contact\n",
            "2. View Contacts\n",
            "3. Search Contact\n",
            "4. Edit Contact\n",
            "5. Delete Contact\n",
            "6. Exit\n",
            "Enter your choice (1-6): 2\n",
            "No contacts available.\n",
            "\n",
            "Simple Contact Book Application\n",
            "1. Add Contact\n",
            "2. View Contacts\n",
            "3. Search Contact\n",
            "4. Edit Contact\n",
            "5. Delete Contact\n",
            "6. Exit\n",
            "Enter your choice (1-6): 6\n",
            "Exiting program. Goodbye!\n"
          ]
        }
      ]
    }
  ]
}