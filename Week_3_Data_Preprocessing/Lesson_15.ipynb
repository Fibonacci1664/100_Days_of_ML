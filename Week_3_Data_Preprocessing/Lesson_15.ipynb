{
  "cells": [
    {
      "cell_type": "markdown",
      "id": "fb44cf1e-6fe6-428b-949a-118034931cf3",
      "metadata": {
        "id": "fb44cf1e-6fe6-428b-949a-118034931cf3"
      },
      "source": [
        "# Day 15: Encoding Categorical Data in Python - Expanded with Mathematical Implications\n",
        "\n",
        "## Objective\n",
        "\n",
        "Deepen the understanding of encoding categorical data in Python by delving into the mathematical implications of each encoding technique, focusing on how they transform data and the influence this transformation has on analysis and model performance.\n",
        "\n",
        "### Prerequisites\n",
        "\n",
        "-   Intermediate Python, Pandas, NumPy, and Scikit-Learn skills.\n",
        "-   Basic understanding of statistical concepts and data preprocessing.\n",
        "-\n",
        "- Example Dataset:  https://github.com/100daysofml/100daysofml.github.io/blob/main/content/Week_03/titanic.csv\n",
        "- Activity Dataset:https://github.com/100daysofml/100daysofml.github.io/blob/main/content/Week_03/adult_data.csv"
      ]
    },
    {
      "cell_type": "markdown",
      "id": "d3adb4ac-e596-4a3e-9ad6-4e6b50fd4f05",
      "metadata": {
        "id": "d3adb4ac-e596-4a3e-9ad6-4e6b50fd4f05"
      },
      "source": [
        "## Introduction to Types of Categorical Data\n",
        "\n",
        "Categorical data, essential in many datasets, can be classified primarily into two types:\n",
        "\n",
        "1.  **Nominal Data (Unordered)**: Categories have no intrinsic order. E.g., Colors (Red, Blue), Gender (Male, Female).\n",
        "2.  **Ordinal Data (Ordered)**: Categories have a logical order or ranking. E.g., Education level (High School, Bachelor's, Master's), Satisfaction rating (Unsatisfied, Neutral, Satisfied).\n",
        "\n",
        "**Cardinality**, the number of unique categories in a feature, is crucial. High cardinality features can pose challenges for encoding due to increased dimensionality."
      ]
    },
    {
      "cell_type": "markdown",
      "id": "f35ae1c5-987d-4abb-a84e-1453d8939ccb",
      "metadata": {
        "id": "f35ae1c5-987d-4abb-a84e-1453d8939ccb"
      },
      "source": [
        "## Implementing Encoding Techniques\n",
        "\n",
        "### Loading the Dataset\n",
        "```python\n",
        "import pandas as pd\n",
        "\n",
        "titanic_data = pd.read_csv('titanic.csv')\n",
        "\n",
        "print(titanic_data.head())\n",
        "```\n",
        "\n",
        "### Understanding the Data\n",
        "\n",
        "Identify nominal, ordinal, and cardinal features in the Titanic dataset:\n",
        "\n",
        "-   **Nominal**: 'Embarked' (C = Cherbourg, Q = Queenstown, S = Southampton)\n",
        "-   **Ordinal**: 'Pclass' (1 = 1st, 2 = 2nd, 3 = 3rd)\n",
        "-   **Cardinal**: 'Cabin' (C85, C123, E46, ...)"
      ]
    },
    {
      "cell_type": "markdown",
      "id": "ca5611ab-9111-4282-8357-9916a6acefb6",
      "metadata": {
        "id": "ca5611ab-9111-4282-8357-9916a6acefb6"
      },
      "source": [
        "## Mathematical Implications of Encoding Techniques\n",
        "\n",
        "### Binary Encoding (for High Cardinality Features)\n",
        "\n",
        "-   **Concept**: Converts categories into binary code, resulting in fewer features compared to one-hot encoding.\n",
        "-   **Mathematical Rationale**: Each binary digit represents a power of 2, efficiently encapsulating information even when the number of categories is large. This reduces the feature space dimensionality, preventing the \"curse of dimensionality\" in model training.\n",
        "\n",
        "### One-Hot Encoding (for Nominal Data)\n",
        "\n",
        "-   **Concept**: Creates a binary column for each category, with only one active state.\n",
        "-   **Formula**: For a feature with `n` categories, it creates `n` binary columns.\n",
        "-   **Mathematical Rationale**: Eliminates ordinal relationships between categories by treating each category as independent. However, it increases the feature space linearly with the number of categories, which can lead to sparse matrices and potentially overfitting in models.\n",
        "\n",
        "### Label Encoding (for Ordinal Data)\n",
        "\n",
        "-   **Concept**: Converts each category into a unique integer.\n",
        "-   **Mathematical Rationale**: Preserves the ordinal nature of the data, ensuring that the model interprets the inherent order. However, it can be misleading if applied to nominal data, as it might introduce an artificial order that doesn't exist."
      ]
    },
    {
      "cell_type": "markdown",
      "id": "4c53aa90-c4b1-428b-bd00-6955de1808c1",
      "metadata": {
        "id": "4c53aa90-c4b1-428b-bd00-6955de1808c1"
      },
      "source": [
        "## Implementing Encoding Techniques with Mathematical Context\n",
        "\n",
        "### Binary Encoding Example (High Cardinality Feature: 'Cabin')\n",
        "```python\n",
        "import category_encoders as ce\n",
        "\n",
        "encoder = ce.BinaryEncoder(cols=['Cabin'])\n",
        "titanic_binary_encoded = encoder.fit_transform(titanic_data['Cabin'])\n",
        "\n",
        "print(\"Binary Encoding for 'Cabin':\")\n",
        "print(titanic_binary_encoded.head())\n",
        "```\n",
        "-   **Mathematical Insight**: Observe how each unique cabin is represented by a combination of binary digits, significantly reducing the feature space compared to one-hot encoding."
      ]
    },
    {
      "cell_type": "markdown",
      "id": "a65586f4-a5b6-4a38-8078-04dbf5b9da08",
      "metadata": {
        "id": "a65586f4-a5b6-4a38-8078-04dbf5b9da08"
      },
      "source": [
        "### One-Hot Encoding Example (Nominal Data: 'Embarked')\n",
        "```python\n",
        "from sklearn.preprocessing import OneHotEncoder\n",
        "\n",
        "encoder = OneHotEncoder()\n",
        "titanic_one_hot_encoded = encoder.fit_transform(titanic_data[['Embarked']])\n",
        "titanic_one_hot_encoded_df = pd.DataFrame(titanic_one_hot_encoded.toarray(), columns=encoder.get_feature_names_out(['Embarked']))\n",
        "\n",
        "print(\"One-Hot Encoding for 'Embarked':\")\n",
        "print(titanic_one_hot_encoded_df.head())\n",
        "```\n",
        "-   **Mathematical Insight**: Each row has only one '1' and the rest '0's, ensuring that the categories are mutually exclusive and equally weighted."
      ]
    },
    {
      "cell_type": "markdown",
      "id": "2b2a16a6-cfe2-4354-9766-a9f936d34daa",
      "metadata": {
        "id": "2b2a16a6-cfe2-4354-9766-a9f936d34daa"
      },
      "source": [
        "### Label Encoding Example (Ordinal Data: 'Pclass')\n",
        "```python\n",
        "from sklearn.preprocessing import LabelEncoder\n",
        "\n",
        "encoder = LabelEncoder()\n",
        "titanic_data['Pclass_encoded'] = encoder.fit_transform(titanic_data['Pclass'])\n",
        "\n",
        "print(\"Label Encoding for 'Pclass':\")\n",
        "print(titanic_data[['Pclass', 'Pclass_encoded']].head())\n",
        "```\n",
        "-   **Mathematical Insight**: The encoding reflects the natural order of classes (1st > 2nd > 3rd), allowing models to interpret this hierarchy correctly."
      ]
    },
    {
      "cell_type": "markdown",
      "id": "27f71c3b-f8f8-4e5f-be1a-488312e29300",
      "metadata": {
        "id": "27f71c3b-f8f8-4e5f-be1a-488312e29300"
      },
      "source": [
        "## Best Practices and Mathematical Considerations\n",
        "\n",
        "-   **Avoid Data Leakage**: Ensure that the encoding is fit only on the training set to avoid leakage of information from the test set.\n",
        "-   **Prevent Dummy Variable Trap**: In one-hot encoding, drop one encoded column to avoid multicollinearity, a situation where variables are highly correlated.\n",
        "-   **Mind the Ordinality**: Apply label encoding for ordinal data to preserve the order. Use one-hot or binary encoding for nominal data to avoid introducing fictitious ordinality.\n",
        "-   **Manage Cardinality**: High cardinality in one-hot encoding can lead to a large number of features. Binary encoding can be a more efficient alternative in such cases."
      ]
    },
    {
      "cell_type": "markdown",
      "id": "4abab78b-2c32-4fdc-93d4-16784d2f4f6b",
      "metadata": {
        "id": "4abab78b-2c32-4fdc-93d4-16784d2f4f6b"
      },
      "source": [
        "### Deep Dive into Visualization and Analysis Post-Data Encoding\n",
        "\n",
        "After encoding categorical data, visualize and analyze the transformed data to understand the impact of encoding on the dataset's structure and the potential implications for model performance.\n",
        "\n",
        "1.  **Visualization Techniques:**\n",
        "    \n",
        "    -   **Histograms:** Use histograms to visualize the frequency distribution of encoded features.\n",
        "    -   **Bar Plots:** Use bar plots to compare the frequency of categories before and after encoding.\n",
        "    -   **Pair Plots:** Use pair plots to visualize pairwise relationships between features.\n",
        "2.  **Analytical Assessment:**\n",
        "    \n",
        "    -   **Compare statistical summaries before and after encoding.**\n",
        "    -   **Observe changes in correlation between features.**\n",
        "    -   **Evaluate the impact of encoding on model performance using metrics like accuracy, precision, and recall.**\n",
        "\n",
        "In these statistical summaries, for the encoded data, you'll be mostly looking at counts, means, and standard deviations for the binary variables created through the encoding process. The mean can give you a sense of the prevalence of each category in binary terms, and the standard deviation provides insights into the variance of these binary representations.\n",
        "\n",
        "Remember, after encoding, the interpretability of the statistical summary changes. While means and standard deviations have clear interpretations for continuous data, their meaning is different for binary-encoded data. Here, the mean represents the proportion of 1s (or 'presence' of a feature), and the standard deviation represents the binary distribution's spread.\n",
        "\n",
        "Analyzing the visualizations and statistical summaries can give you insights into how encoding has transformed your data and what implications it may have for your analysis or model training."
      ]
    },
    {
      "cell_type": "markdown",
      "id": "2bb0b444-91cf-4a78-83bb-94fe9bcf7872",
      "metadata": {
        "id": "2bb0b444-91cf-4a78-83bb-94fe9bcf7872"
      },
      "source": [
        "# Activity: Deep Dive with Titanic Dataset\n",
        "\n",
        "## Objective\n",
        "\n",
        "Explore the nuances of encoding categorical data in Python, focusing on different techniques and their implications on data structure and model performance, using the Titanic dataset as an example.\n",
        "\n",
        "## Prerequisites\n",
        "\n",
        "-   Intermediate knowledge of Python, Pandas, NumPy, and Scikit-Learn.\n",
        "-   Familiarity with data visualization libraries like Matplotlib and Seaborn.\n",
        "-   Understanding of basic statistical concepts.\n",
        "- Dataset: https://github.com/100daysofml/100daysofml_notebooks/blob/main/content/Week_03/adult_data.csv\n",
        "\n",
        "## Dataset Overview\n",
        "\n",
        "The Titanic dataset provides a mix of categorical and numerical features, making it ideal for demonstrating various encoding techniques. The dataset includes details of passengers such as Class, Sex, Age, and whether they survived the sinking."
      ]
    },
    {
      "cell_type": "markdown",
      "id": "493563f2-cb74-4d43-a44d-334b085a8c01",
      "metadata": {
        "id": "493563f2-cb74-4d43-a44d-334b085a8c01"
      },
      "source": [
        "### Step 1: Load the necessary libraries"
      ]
    },
    {
      "cell_type": "code",
      "source": [
        "!pip install category_encoders"
      ],
      "metadata": {
        "colab": {
          "base_uri": "https://localhost:8080/"
        },
        "id": "YxBbhHQTTPBc",
        "outputId": "d24690b4-a1bb-4c86-9829-377d56e8ba70"
      },
      "id": "YxBbhHQTTPBc",
      "execution_count": 6,
      "outputs": [
        {
          "output_type": "stream",
          "name": "stdout",
          "text": [
            "Requirement already satisfied: category_encoders in /usr/local/lib/python3.10/dist-packages (2.6.3)\n",
            "Requirement already satisfied: numpy>=1.14.0 in /usr/local/lib/python3.10/dist-packages (from category_encoders) (1.23.5)\n",
            "Requirement already satisfied: scikit-learn>=0.20.0 in /usr/local/lib/python3.10/dist-packages (from category_encoders) (1.2.2)\n",
            "Requirement already satisfied: scipy>=1.0.0 in /usr/local/lib/python3.10/dist-packages (from category_encoders) (1.11.4)\n",
            "Requirement already satisfied: statsmodels>=0.9.0 in /usr/local/lib/python3.10/dist-packages (from category_encoders) (0.14.1)\n",
            "Requirement already satisfied: pandas>=1.0.5 in /usr/local/lib/python3.10/dist-packages (from category_encoders) (1.5.3)\n",
            "Requirement already satisfied: patsy>=0.5.1 in /usr/local/lib/python3.10/dist-packages (from category_encoders) (0.5.6)\n",
            "Requirement already satisfied: python-dateutil>=2.8.1 in /usr/local/lib/python3.10/dist-packages (from pandas>=1.0.5->category_encoders) (2.8.2)\n",
            "Requirement already satisfied: pytz>=2020.1 in /usr/local/lib/python3.10/dist-packages (from pandas>=1.0.5->category_encoders) (2023.4)\n",
            "Requirement already satisfied: six in /usr/local/lib/python3.10/dist-packages (from patsy>=0.5.1->category_encoders) (1.16.0)\n",
            "Requirement already satisfied: joblib>=1.1.1 in /usr/local/lib/python3.10/dist-packages (from scikit-learn>=0.20.0->category_encoders) (1.3.2)\n",
            "Requirement already satisfied: threadpoolctl>=2.0.0 in /usr/local/lib/python3.10/dist-packages (from scikit-learn>=0.20.0->category_encoders) (3.2.0)\n",
            "Requirement already satisfied: packaging>=21.3 in /usr/local/lib/python3.10/dist-packages (from statsmodels>=0.9.0->category_encoders) (23.2)\n"
          ]
        }
      ]
    },
    {
      "cell_type": "code",
      "execution_count": 7,
      "id": "3add9584-eccd-4bf6-9639-790c2300ade9",
      "metadata": {
        "id": "3add9584-eccd-4bf6-9639-790c2300ade9"
      },
      "outputs": [],
      "source": [
        "# Import necessary libraries\n",
        "import pandas as pd\n",
        "import seaborn as sns\n",
        "import matplotlib.pyplot as plt\n",
        "from sklearn.preprocessing import OneHotEncoder, LabelEncoder\n",
        "import category_encoders as ce"
      ]
    },
    {
      "cell_type": "markdown",
      "id": "60575541-f6c5-4255-82d7-78fad9f68106",
      "metadata": {
        "id": "60575541-f6c5-4255-82d7-78fad9f68106"
      },
      "source": [
        "### Step 2: Load the Titanic dataset"
      ]
    },
    {
      "cell_type": "code",
      "execution_count": 11,
      "id": "0c4120fa-1073-40f0-a4be-5d54e5e872e5",
      "metadata": {
        "colab": {
          "base_uri": "https://localhost:8080/"
        },
        "id": "0c4120fa-1073-40f0-a4be-5d54e5e872e5",
        "outputId": "57d770f5-e2de-40bf-849b-c77b2fc632e0"
      },
      "outputs": [
        {
          "output_type": "stream",
          "name": "stdout",
          "text": [
            "   PassengerId  Pclass                                          Name     Sex  \\\n",
            "0          892       3                              Kelly, Mr. James    male   \n",
            "1          893       3              Wilkes, Mrs. James (Ellen Needs)  female   \n",
            "2          894       2                     Myles, Mr. Thomas Francis    male   \n",
            "3          895       3                              Wirz, Mr. Albert    male   \n",
            "4          896       3  Hirvonen, Mrs. Alexander (Helga E Lindqvist)  female   \n",
            "\n",
            "    Age  SibSp  Parch   Ticket     Fare Cabin Embarked  Survived  \n",
            "0  34.5      0      0   330911   7.8292   NaN        Q         0  \n",
            "1  47.0      1      0   363272   7.0000   NaN        S         1  \n",
            "2  62.0      0      0   240276   9.6875   NaN        Q         0  \n",
            "3  27.0      0      0   315154   8.6625   NaN        S         0  \n",
            "4  22.0      1      1  3101298  12.2875   NaN        S         1  \n"
          ]
        }
      ],
      "source": [
        "# Load the Titanic dataset\n",
        "titanic_data = pd.read_csv('titanic.csv')  # Replace with the correct path\n",
        "pd.set_option('display.max_columns', None)\n",
        "print(titanic_data.head())\n",
        "\n",
        "# Output:\n",
        "#   PassengerId  Pclass  Name  Sex  Age  SibSp  Parch  Ticket  Fare  Cabin  Embarked  Survived\n",
        "# 0          892       3  Kelly, Mr. James  male  34.5      0      0  330911  7.8292   NaN        Q         0\n",
        "# 1          893       3  Wilkes, Mrs. James (Ellen Needs)  female  47.0      1      0  363272  7.0000   NaN        S         1\n",
        "# ... (additional rows)`"
      ]
    },
    {
      "cell_type": "markdown",
      "id": "c8a1108b-47f0-4ea4-b1a4-235b71f64f5d",
      "metadata": {
        "id": "c8a1108b-47f0-4ea4-b1a4-235b71f64f5d"
      },
      "source": [
        "### Step 3: Categorical Data Identification\n",
        "\n",
        "Before encoding, it's crucial to understand the types of categorical data present in the dataset."
      ]
    },
    {
      "cell_type": "code",
      "execution_count": 25,
      "id": "a38e6ec4-791a-4718-b947-27d62e71d93a",
      "metadata": {
        "colab": {
          "base_uri": "https://localhost:8080/"
        },
        "id": "a38e6ec4-791a-4718-b947-27d62e71d93a",
        "outputId": "6a8035c5-b5c1-402a-c2c2-d0ec5bec2154"
      },
      "outputs": [
        {
          "output_type": "stream",
          "name": "stdout",
          "text": [
            "\n",
            "Data types and unique values in each categorical column:\n",
            "\n",
            "Name:    \t\t418\tunique values\n",
            "Sex:    \t\t2\tunique values\n",
            "Ticket:    \t\t363\tunique values\n",
            "Cabin:    \t\t76\tunique values\n",
            "Embarked:    \t\t3\tunique values\n"
          ]
        }
      ],
      "source": [
        "# Identify the types of categorical data in the Titanic dataset\n",
        "print(\"\\nData types and unique values in each categorical column:\\n\")\n",
        "for col in titanic_data.select_dtypes(include='object').columns:\n",
        "    print(f\"{col}:    \\t\\t{titanic_data[col].nunique()}\\tunique values\")"
      ]
    },
    {
      "cell_type": "markdown",
      "id": "eaf87f8c-983f-4b95-b628-017fe23fe5e8",
      "metadata": {
        "id": "eaf87f8c-983f-4b95-b628-017fe23fe5e8"
      },
      "source": [
        "### Step 4: Encoding Techniques and Visualization\n",
        "\n",
        "### A. Binary Encoding for 'Cabin' (High Cardinality Feature)\n",
        "\n",
        "Binary encoding is efficient for high cardinality features as it significantly reduces the feature space compared to one-hot encoding."
      ]
    },
    {
      "cell_type": "code",
      "execution_count": 26,
      "id": "ef4d8a44-c839-43f4-bfce-576a1e47476b",
      "metadata": {
        "colab": {
          "base_uri": "https://localhost:8080/",
          "height": 746
        },
        "id": "ef4d8a44-c839-43f4-bfce-576a1e47476b",
        "outputId": "618dac8e-c470-470d-b712-93384126b4ca"
      },
      "outputs": [
        {
          "output_type": "stream",
          "name": "stdout",
          "text": [
            "\n",
            "Binary Encoding for 'Cabin':\n",
            "   Cabin_0  Cabin_1  Cabin_2  Cabin_3  Cabin_4  Cabin_5  Cabin_6\n",
            "0        1        0        0        1        1        0        1\n",
            "1        1        0        0        1        1        0        1\n",
            "2        1        0        0        1        1        0        1\n",
            "3        1        0        0        1        1        0        1\n",
            "4        1        0        0        1        1        0        1\n"
          ]
        },
        {
          "output_type": "display_data",
          "data": {
            "text/plain": [
              "<Figure size 1400x600 with 2 Axes>"
            ],
            "image/png": "[encoded data removed]"
          },
          "metadata": {}
        }
      ],
      "source": [
        "# Binary Encoding for 'Cabin'\n",
        "encoder = ce.BinaryEncoder(cols=['Cabin'])\n",
        "titanic_binary_encoded = encoder.fit_transform(titanic_data['Cabin'])\n",
        "\n",
        "print(\"\\nBinary Encoding for 'Cabin':\")\n",
        "print(titanic_binary_encoded.head())\n",
        "\n",
        "# Visualization for 'Cabin' before and after Binary Encoding\n",
        "plt.figure(figsize=(14, 6))\n",
        "plt.subplot(1, 2, 1)\n",
        "titanic_data['Cabin'].value_counts().plot(kind='bar')\n",
        "plt.title('Cabin Before Encoding')\n",
        "plt.xlabel('Cabin')\n",
        "plt.ylabel('Frequency')\n",
        "\n",
        "plt.subplot(1, 2, 2)\n",
        "titanic_binary_encoded.sum(axis=0).plot(kind='bar')\n",
        "plt.title('Cabin After Binary Encoding')\n",
        "plt.xlabel('Encoded Cabin')\n",
        "plt.ylabel('Frequency')\n",
        "plt.tight_layout()\n",
        "plt.show()"
      ]
    },
    {
      "cell_type": "markdown",
      "id": "6a376f48-3612-4ff4-8e14-60c4c5f878d1",
      "metadata": {
        "id": "6a376f48-3612-4ff4-8e14-60c4c5f878d1"
      },
      "source": [
        "### B. One-Hot Encoding for 'Embarked' (Nominal Data)\n",
        "\n",
        "One-hot encoding is perfect for nominal data without an intrinsic order as it prevents introducing any ordinal relationship."
      ]
    },
    {
      "cell_type": "code",
      "execution_count": 27,
      "id": "1a1160cc-2fbe-4474-b93b-8581fb51b3db",
      "metadata": {
        "colab": {
          "base_uri": "https://localhost:8080/",
          "height": 746
        },
        "id": "1a1160cc-2fbe-4474-b93b-8581fb51b3db",
        "outputId": "05c9d067-08aa-4009-cb2c-f025a4d36d04"
      },
      "outputs": [
        {
          "output_type": "stream",
          "name": "stdout",
          "text": [
            "\n",
            "One-Hot Encoding for 'Embarked':\n",
            "   Embarked_C  Embarked_Q  Embarked_S\n",
            "0         0.0         1.0         0.0\n",
            "1         0.0         0.0         1.0\n",
            "2         0.0         1.0         0.0\n",
            "3         0.0         0.0         1.0\n",
            "4         0.0         0.0         1.0\n"
          ]
        },
        {
          "output_type": "display_data",
          "data": {
            "text/plain": [
              "<Figure size 1400x600 with 2 Axes>"
            ],
            "image/png": "[encoded data removed]"
          },
          "metadata": {}
        }
      ],
      "source": [
        "# One-Hot Encoding for 'Embarked'\n",
        "encoder = OneHotEncoder()\n",
        "titanic_one_hot_encoded = encoder.fit_transform(titanic_data[['Embarked']])\n",
        "titanic_one_hot_encoded_df = pd.DataFrame(titanic_one_hot_encoded.toarray(), columns=encoder.get_feature_names_out(['Embarked']))\n",
        "\n",
        "print(\"\\nOne-Hot Encoding for 'Embarked':\")\n",
        "print(titanic_one_hot_encoded_df.head())\n",
        "\n",
        "# Visualization for 'Embarked' before and after One-Hot Encoding\n",
        "plt.figure(figsize=(14, 6))\n",
        "plt.subplot(1, 2, 1)\n",
        "titanic_data['Embarked'].value_counts().plot(kind='bar')\n",
        "plt.title('Embarked Before Encoding')\n",
        "plt.xlabel('Embarked')\n",
        "plt.ylabel('Frequency')\n",
        "\n",
        "plt.subplot(1, 2, 2)\n",
        "titanic_one_hot_encoded_df.sum(axis=0).plot(kind='bar')\n",
        "plt.title('Embarked After One-Hot Encoding')\n",
        "plt.xlabel('Encoded Embarked')\n",
        "plt.ylabel('Frequency')\n",
        "plt.tight_layout()\n",
        "plt.show()"
      ]
    },
    {
      "cell_type": "markdown",
      "id": "8620cdd7-b051-4fc9-936e-83ab74b694b7",
      "metadata": {
        "id": "8620cdd7-b051-4fc9-936e-83ab74b694b7"
      },
      "source": [
        "### C. Label Encoding for 'Pclass' (Ordinal Data)\n",
        "\n",
        "Label encoding is suitable for ordinal data as it preserves the natural order within the categories."
      ]
    },
    {
      "cell_type": "code",
      "execution_count": 28,
      "id": "28436cc9-4452-4500-a93a-5417bfb660f2",
      "metadata": {
        "colab": {
          "base_uri": "https://localhost:8080/",
          "height": 746
        },
        "id": "28436cc9-4452-4500-a93a-5417bfb660f2",
        "outputId": "09115df0-e9ef-42bc-b186-ec3103538a96"
      },
      "outputs": [
        {
          "output_type": "stream",
          "name": "stdout",
          "text": [
            "\n",
            "Label Encoding for 'Pclass':\n",
            "   Pclass  Pclass_encoded\n",
            "0       3               2\n",
            "1       3               2\n",
            "2       2               1\n",
            "3       3               2\n",
            "4       3               2\n"
          ]
        },
        {
          "output_type": "display_data",
          "data": {
            "text/plain": [
              "<Figure size 1400x600 with 2 Axes>"
            ],
            "image/png": "[encoded data removed]"
          },
          "metadata": {}
        }
      ],
      "source": [
        "# Label Encoding for 'Pclass'\n",
        "encoder = LabelEncoder()\n",
        "titanic_data['Pclass_encoded'] = encoder.fit_transform(titanic_data['Pclass'])\n",
        "\n",
        "print(\"\\nLabel Encoding for 'Pclass':\")\n",
        "print(titanic_data[['Pclass', 'Pclass_encoded']].head())\n",
        "\n",
        "# Visualization for 'Pclass' before and after Label Encoding\n",
        "plt.figure(figsize=(14, 6))\n",
        "plt.subplot(1, 2, 1)\n",
        "titanic_data['Pclass'].value_counts().plot(kind='bar')\n",
        "plt.title('Pclass Before Encoding')\n",
        "\n",
        "plt.subplot(1, 2, 2)\n",
        "titanic_data['Pclass_encoded'].value_counts().plot(kind='bar')\n",
        "plt.title('Pclass After Label Encoding')\n",
        "plt.tight_layout()\n",
        "plt.show()"
      ]
    },
    {
      "cell_type": "markdown",
      "id": "d6530548-ed13-4f6b-90c2-af96a5aec36a",
      "metadata": {
        "id": "d6530548-ed13-4f6b-90c2-af96a5aec36a"
      },
      "source": [
        "## Step 5: Statistical Summary Post-Encoding\n",
        "\n",
        "Assessing the impact of encoding techniques on the dataset's structure and characteristics is crucial for understanding the transformation."
      ]
    },
    {
      "cell_type": "code",
      "execution_count": 30,
      "id": "9c894e5a-f91a-41bf-830d-7363d6659585",
      "metadata": {
        "colab": {
          "base_uri": "https://localhost:8080/"
        },
        "id": "9c894e5a-f91a-41bf-830d-7363d6659585",
        "outputId": "193d6d2b-50b3-4e8d-fa72-3e6be197527a"
      },
      "outputs": [
        {
          "output_type": "stream",
          "name": "stdout",
          "text": [
            "\n",
            "Statistical Summary for 'Cabin' before encoding:\n",
            "\n",
            "count                  91\n",
            "unique                 76\n",
            "top       B57 B59 B63 B66\n",
            "freq                    3\n",
            "Name: Cabin, dtype: object\n"
          ]
        }
      ],
      "source": [
        "# Statistical Summary before and after encoding\n",
        "print(\"\\nStatistical Summary for 'Cabin' before encoding:\\n\")\n",
        "print(titanic_data['Cabin'].describe())"
      ]
    },
    {
      "cell_type": "code",
      "execution_count": 31,
      "id": "c6aa5c7b-d9cc-4784-87df-6d43819713c3",
      "metadata": {
        "colab": {
          "base_uri": "https://localhost:8080/"
        },
        "id": "c6aa5c7b-d9cc-4784-87df-6d43819713c3",
        "outputId": "5691127b-c5dd-46ae-ad91-57a6e9d07390"
      },
      "outputs": [
        {
          "output_type": "stream",
          "name": "stdout",
          "text": [
            "\n",
            "Statistical Summary for 'Cabin' after Binary Encoding:\n",
            "\n",
            "          Cabin_0     Cabin_1     Cabin_2     Cabin_3     Cabin_4     Cabin_5  \\\n",
            "count  418.000000  418.000000  418.000000  418.000000  418.000000  418.000000   \n",
            "mean     0.813397    0.088517    0.090909    0.882775    0.885167    0.112440   \n",
            "std      0.390059    0.284385    0.287824    0.322074    0.319202    0.316286   \n",
            "min      0.000000    0.000000    0.000000    0.000000    0.000000    0.000000   \n",
            "25%      1.000000    0.000000    0.000000    1.000000    1.000000    0.000000   \n",
            "50%      1.000000    0.000000    0.000000    1.000000    1.000000    0.000000   \n",
            "75%      1.000000    0.000000    0.000000    1.000000    1.000000    0.000000   \n",
            "max      1.000000    1.000000    1.000000    1.000000    1.000000    1.000000   \n",
            "\n",
            "          Cabin_6  \n",
            "count  418.000000  \n",
            "mean     0.892344  \n",
            "std      0.310316  \n",
            "min      0.000000  \n",
            "25%      1.000000  \n",
            "50%      1.000000  \n",
            "75%      1.000000  \n",
            "max      1.000000  \n"
          ]
        }
      ],
      "source": [
        "print(\"\\nStatistical Summary for 'Cabin' after Binary Encoding:\\n\")\n",
        "print(titanic_binary_encoded.describe())"
      ]
    },
    {
      "cell_type": "code",
      "execution_count": 32,
      "id": "bf44dbee-53c1-44b8-862d-58bbffb52627",
      "metadata": {
        "colab": {
          "base_uri": "https://localhost:8080/"
        },
        "id": "bf44dbee-53c1-44b8-862d-58bbffb52627",
        "outputId": "be2dfc90-20b6-48d2-8a6d-c2a401de1dce"
      },
      "outputs": [
        {
          "output_type": "stream",
          "name": "stdout",
          "text": [
            "\n",
            "Statistical Summary for 'Embarked' before encoding:\n",
            "count     418\n",
            "unique      3\n",
            "top         S\n",
            "freq      270\n",
            "Name: Embarked, dtype: object\n"
          ]
        }
      ],
      "source": [
        "print(\"\\nStatistical Summary for 'Embarked' before encoding:\")\n",
        "print(titanic_data['Embarked'].describe())"
      ]
    },
    {
      "cell_type": "code",
      "execution_count": 33,
      "id": "6d886fef-cf79-4341-abeb-9606dbc06e15",
      "metadata": {
        "colab": {
          "base_uri": "https://localhost:8080/"
        },
        "id": "6d886fef-cf79-4341-abeb-9606dbc06e15",
        "outputId": "01d39797-a0b3-497f-a029-412a46139b17"
      },
      "outputs": [
        {
          "output_type": "stream",
          "name": "stdout",
          "text": [
            "\n",
            "Statistical Summary for 'Embarked' after One-Hot Encoding:\n",
            "       Embarked_C  Embarked_Q  Embarked_S\n",
            "count  418.000000  418.000000  418.000000\n",
            "mean     0.244019    0.110048    0.645933\n",
            "std      0.430019    0.313324    0.478803\n",
            "min      0.000000    0.000000    0.000000\n",
            "25%      0.000000    0.000000    0.000000\n",
            "50%      0.000000    0.000000    1.000000\n",
            "75%      0.000000    0.000000    1.000000\n",
            "max      1.000000    1.000000    1.000000\n"
          ]
        }
      ],
      "source": [
        "print(\"\\nStatistical Summary for 'Embarked' after One-Hot Encoding:\")\n",
        "print(titanic_one_hot_encoded_df.describe())"
      ]
    },
    {
      "cell_type": "code",
      "execution_count": 34,
      "id": "b0ef65e9-2e6f-4f61-8a06-f8642a4e2fcc",
      "metadata": {
        "colab": {
          "base_uri": "https://localhost:8080/"
        },
        "id": "b0ef65e9-2e6f-4f61-8a06-f8642a4e2fcc",
        "outputId": "eb338352-55bf-413a-acc1-9524ba1d5659"
      },
      "outputs": [
        {
          "output_type": "stream",
          "name": "stdout",
          "text": [
            "\n",
            "Statistical Summary for 'Pclass' before encoding:\n",
            "count    418.000000\n",
            "mean       2.265550\n",
            "std        0.841838\n",
            "min        1.000000\n",
            "25%        1.000000\n",
            "50%        3.000000\n",
            "75%        3.000000\n",
            "max        3.000000\n",
            "Name: Pclass, dtype: float64\n"
          ]
        }
      ],
      "source": [
        "print(\"\\nStatistical Summary for 'Pclass' before encoding:\")\n",
        "print(titanic_data['Pclass'].describe())"
      ]
    },
    {
      "cell_type": "code",
      "execution_count": 35,
      "id": "420aaab8-c847-4ef5-9c0a-5e33f9e7d89b",
      "metadata": {
        "colab": {
          "base_uri": "https://localhost:8080/"
        },
        "id": "420aaab8-c847-4ef5-9c0a-5e33f9e7d89b",
        "outputId": "163dd985-2333-43ce-8076-a477a923a9c0"
      },
      "outputs": [
        {
          "output_type": "stream",
          "name": "stdout",
          "text": [
            "\n",
            "Statistical Summary for 'Pclass' after Label Encoding:\n",
            "count    418.000000\n",
            "mean       1.265550\n",
            "std        0.841838\n",
            "min        0.000000\n",
            "25%        0.000000\n",
            "50%        2.000000\n",
            "75%        2.000000\n",
            "max        2.000000\n",
            "Name: Pclass_encoded, dtype: float64\n"
          ]
        }
      ],
      "source": [
        "print(\"\\nStatistical Summary for 'Pclass' after Label Encoding:\")\n",
        "print(titanic_data['Pclass_encoded'].describe())"
      ]
    },
    {
      "cell_type": "markdown",
      "id": "293af280-1b9c-4f5a-b12e-43cbe7bdf576",
      "metadata": {
        "id": "293af280-1b9c-4f5a-b12e-43cbe7bdf576"
      },
      "source": [
        "-   **Analytical Assessment**:\n",
        "    \n",
        "    -   Compare statistical summaries before and after encoding.\n",
        "    -   Observe any changes in correlation between features.\n",
        "    -   Evaluate the impact of encoding on model performance using metrics like accuracy, precision, and recall."
      ]
    },
    {
      "cell_type": "markdown",
      "id": "6332f3b2-a3e0-46d1-91d7-cb52a06e537a",
      "metadata": {
        "id": "6332f3b2-a3e0-46d1-91d7-cb52a06e537a"
      },
      "source": [
        "### **Additional Resources (Encoding Categorical Data)**\n",
        "\n",
        "https://medium.com/aiskunks/categorical-data-encoding-techniques-d6296697a40f\n",
        "\n",
        "https://www.analyticsvidhya.com/blog/2020/08/types-of-categorical-data-encoding/\n",
        "\n",
        "https://towardsdatascience.com/categorical-feature-encoding-547707acf4e5\n",
        "\n",
        "https://machinelearningmastery.com/how-to-prepare-categorical-data-for-deep-learning-in-python/\n",
        "\n",
        "https://towardsdatascience.com/all-about-categorical-variable-encoding-305f3361fd02"
      ]
    }
  ],
  "metadata": {
    "kernelspec": {
      "display_name": "Python 3 (ipykernel)",
      "language": "python",
      "name": "python3"
    },
    "language_info": {
      "codemirror_mode": {
        "name": "ipython",
        "version": 3
      },
      "file_extension": ".py",
      "mimetype": "text/x-python",
      "name": "python",
      "nbconvert_exporter": "python",
      "pygments_lexer": "ipython3",
      "version": "3.11.5"
    },
    "colab": {
      "provenance": []
    }
  },
  "nbformat": 4,
  "nbformat_minor": 5
}