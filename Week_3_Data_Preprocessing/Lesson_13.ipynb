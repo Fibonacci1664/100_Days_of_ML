{
  "cells": [
    {
      "cell_type": "markdown",
      "id": "d9cb18ff-6310-4cbd-b57d-481607538da9",
      "metadata": {
        "id": "d9cb18ff-6310-4cbd-b57d-481607538da9"
      },
      "source": [
        "# Day 13: Advanced Techniques for Handling Missing Data in Python\n",
        "\n",
        "## Objective\n",
        " - Deepen understanding of handling missing data using Python, focusing on various imputation techniques, best practices, and integrating statistical tests from R for data analysis.\n",
        "\n",
        "## Prerequisites\n",
        "- Intermediate skills in Python, Pandas, NumPy, and Scikit-Learn.\n",
        "- Basic understanding of statistical methods.\n",
        "- Python environment with necessary libraries and R integration using `rpy2`.\n",
        "- Dataset: https://github.com/100daysofml/100daysofml.github.io/blob/main/content/Week_03/titanic.csv"
      ]
    },
    {
      "cell_type": "markdown",
      "id": "a4b85834-3441-4dfd-86b0-1fb09b046d65",
      "metadata": {
        "id": "a4b85834-3441-4dfd-86b0-1fb09b046d65"
      },
      "source": [
        "## Understanding Missing Data\n",
        "\n",
        "### Types of Missing Data\n",
        "1. **Missing Completely at Random (MCAR)**: No relationship with any other data.\n",
        "2. **Missing at Random (MAR)**: Missingness related to observed data.\n",
        "3. **Missing Not at Random (MNAR)**: Missingness related to unobserved data."
      ]
    },
    {
      "cell_type": "markdown",
      "id": "167a71d8-99b4-43fb-8f4e-63badb3bbf9b",
      "metadata": {
        "id": "167a71d8-99b4-43fb-8f4e-63badb3bbf9b"
      },
      "source": [
        "## Step 1: Load and Explore the Dataset\n",
        "\n",
        "\n",
        "```python\n",
        "import pandas as pd\n",
        "\n",
        "titanic_data = pd.read_csv('titanic.csv')\n",
        "\n",
        "print(titanic_data.head())\n",
        "print(titanic_data.isnull().sum())\n",
        "```"
      ]
    },
    {
      "cell_type": "code",
      "execution_count": 13,
      "id": "8bb88722-5143-4f75-a59f-5953995aa975",
      "metadata": {
        "tags": [],
        "colab": {
          "base_uri": "https://localhost:8080/"
        },
        "id": "8bb88722-5143-4f75-a59f-5953995aa975",
        "outputId": "3cac622e-416b-4e51-b558-315381fc12ca"
      },
      "outputs": [
        {
          "output_type": "stream",
          "name": "stdout",
          "text": [
            "   PassengerId  Pclass                                          Name     Sex  \\\n",
            "0          892       3                              Kelly, Mr. James    male   \n",
            "1          893       3              Wilkes, Mrs. James (Ellen Needs)  female   \n",
            "2          894       2                     Myles, Mr. Thomas Francis    male   \n",
            "3          895       3                              Wirz, Mr. Albert    male   \n",
            "4          896       3  Hirvonen, Mrs. Alexander (Helga E Lindqvist)  female   \n",
            "\n",
            "    Age  SibSp  Parch   Ticket     Fare Cabin Embarked  Survived  \n",
            "0  34.5      0      0   330911   7.8292   NaN        Q         0  \n",
            "1  47.0      1      0   363272   7.0000   NaN        S         1  \n",
            "2  62.0      0      0   240276   9.6875   NaN        Q         0  \n",
            "3  27.0      0      0   315154   8.6625   NaN        S         0  \n",
            "4  22.0      1      1  3101298  12.2875   NaN        S         1  \n",
            "PassengerId      0\n",
            "Pclass           0\n",
            "Name             0\n",
            "Sex              0\n",
            "Age             86\n",
            "SibSp            0\n",
            "Parch            0\n",
            "Ticket           0\n",
            "Fare             1\n",
            "Cabin          327\n",
            "Embarked         0\n",
            "Survived         0\n",
            "dtype: int64\n"
          ]
        }
      ],
      "source": [
        "import pandas as pd\n",
        "\n",
        "titanic_data_original = pd.read_csv('titanic.csv')\n",
        "\n",
        "titanic_data = pd.read_csv('titanic.csv')\n",
        "\n",
        "print(titanic_data.head())\n",
        "print(titanic_data.isnull().sum())"
      ]
    },
    {
      "cell_type": "markdown",
      "id": "a5ff6a74-5857-4992-954b-cb8da54b061d",
      "metadata": {
        "tags": [],
        "id": "a5ff6a74-5857-4992-954b-cb8da54b061d"
      },
      "source": [
        "## Step 2: Basic Imputation Techniques\n",
        "\n",
        "-   **Mean/Median Imputation**:\n",
        "    -   **Use when**: Data is MCAR and normally distributed.\n",
        "    -   **Best Practice**: Use median for skewed data.\n",
        "    -   **Python Code**:\n",
        "\n",
        "### Filling Age with Median\n",
        "\n",
        "```python\n",
        "titanic_data['Age'].fillna(titanic_data['Age'].median(), inplace=True)\n",
        "\n",
        "```\n",
        "\n",
        "Filling missing data is an important step in preparing a dataset for analysis or model training. The choice of imputation technique depends on the nature of the data and the specific column with missing values. Let's break down the rationale behind the provided code:\n",
        "Filling Age with Median\n",
        "\n",
        "-   **Why Use Median for Age**:\n",
        "    -   **Robust to Outliers**: The median is less sensitive to outliers compared to the mean. In datasets where age might have extreme values or a skewed distribution, using the median ensures that the imputed values are not unduly influenced by these extremes.\n",
        "    -   **Dealing with MCAR or MAR**: If the missingness in the 'Age' column is MCAR (Missing Completely at Random) or MAR (Missing at Random), median imputation provides a reasonable estimate that preserves the central tendency of the data.\n",
        "\n",
        "-   **Mode Imputation**:\n",
        "    -   **Use when**: Best for categorical data..\n",
        "\n",
        "```python\n",
        "\n",
        "embarked_mode = titanic_data['Embarked'].mode()[0]\n",
        "titanic_data['Embarked'].fillna(embarked_mode, inplace=True)\n",
        "\n",
        "```\n",
        "-   **Why Use Mode for Embarked**:\n",
        "    -   **Categorical Data**: 'Embarked' is a categorical variable (representing different embarkation points). For categorical data, mean and median are not applicable. The mode, which is the most frequently occurring category, is a natural choice for imputation.\n",
        "    -   **Preserving the Most Common Category**: By using the mode, you maintain the original distribution of the data as closely as possible. It ensures that the statistical and structural integrity of the 'Embarked' column is maintained post-imputation.\n",
        "    -   **Handling MCAR/MAR**: If the data is MCAR or MAR, replacing missing values with the most common category (mode) helps to retain the representativeness of the dataset.\n",
        "    \n",
        "### General Best Practices\n",
        "\n",
        "-   **No Distortion of Original Distribution**: The goal is to impute missing values in a way that the overall distribution and relationships in the data remain as unaffected as possible.\n",
        "-   **Contextual Decision Making**: The choice of imputation method should also consider the context and importance of the variable in the dataset. For instance, if a variable like 'Embarked' is crucial for the analysis or model, careful consideration is needed to choose the most appropriate imputation method that reflects the real-world scenario.\n",
        "\n",
        "In conclusion, the choice of median for 'Age' and mode for 'Embarked' is driven by the nature of these variables (continuous vs. categorical) and the goal of preserving the original data distribution while responsibly handling missing values.    "
      ]
    },
    {
      "cell_type": "code",
      "execution_count": 8,
      "id": "dc2a9002-695e-4a0d-bfaa-b1dc973954f3",
      "metadata": {
        "tags": [],
        "colab": {
          "base_uri": "https://localhost:8080/"
        },
        "id": "dc2a9002-695e-4a0d-bfaa-b1dc973954f3",
        "outputId": "091a805c-c2f1-439d-b534-ec6b9d7a1c7d"
      },
      "outputs": [
        {
          "output_type": "stream",
          "name": "stdout",
          "text": [
            "S\n"
          ]
        }
      ],
      "source": [
        "titanic_data['Age'].fillna(titanic_data['Age'].median(), inplace=True)\n",
        "embarked_mode = titanic_data['Embarked'].mode()[0]\n",
        "\n",
        "print(embarked_mode)\n",
        "\n",
        "titanic_data['Embarked'].fillna(embarked_mode, inplace=True)"
      ]
    },
    {
      "cell_type": "markdown",
      "id": "18035b7a-d071-47c6-a40a-a90fd5529e90",
      "metadata": {
        "id": "18035b7a-d071-47c6-a40a-a90fd5529e90"
      },
      "source": [
        "## Step 3: Advanced Imputation Techniques\n",
        "\n",
        "-   **KNN Imputation**:\n",
        "    -   **Use when**: Data has identifiable patterns.\n",
        "\n",
        "```python\n",
        "from sklearn.impute import KNNImputer\n",
        "\n",
        "imputer = KNNImputer(n_neighbors=3)\n",
        "numeric_columns = titanic_data.select_dtypes(include=['float64', 'int64'])\n",
        "titanic_data[numeric_columns.columns] = imputer.fit_transform(numeric_columns)\n",
        "```\n",
        "### How and Why to Use KNN Imputation\n",
        "\n",
        "-   **Mechanism**: K-Nearest Neighbors (KNN) Imputation works by finding the 'k' closest neighbors to a data point with missing values and then imputes those values based on the non-missing values of these neighbors.\n",
        "-   **Applicability**: This method is particularly useful when the data exhibits a pattern or relationship, such as in cases where similar observations have similar types of values.\n",
        "-   **Choosing 'k'**: The choice of 'k' (number of neighbors) is crucial. A smaller 'k' might capture more variance in the data, while a larger 'k' can smooth out the noise but might lead to bias.\n",
        "-   **Distance Metric**: KNN uses a distance metric (like Euclidean distance) to find the closest neighbors. The choice of the distance metric can significantly impact the imputation.\n",
        "\n",
        "### Best Practices for KNN Imputation\n",
        "\n",
        "-   **Standardize Data**: KNN is sensitive to the scale of data, so it's often recommended to standardize data before using KNN imputation.\n",
        "-   **Handle Outliers**: Outliers can skew the distance metric, leading to inaccurate imputation. Handling outliers before imputation can be beneficial.\n",
        "-   **Consider Computational Cost**: KNN can be computationally expensive, especially for large datasets with many missing values."
      ]
    },
    {
      "cell_type": "code",
      "source": [
        "from sklearn.impute import KNNImputer\n",
        "\n",
        "imputer = KNNImputer(n_neighbors=3)\n",
        "numeric_columns = titanic_data.select_dtypes(include=['float64', 'int64'])\n",
        "titanic_data[numeric_columns.columns] = imputer.fit_transform(numeric_columns)"
      ],
      "metadata": {
        "id": "Gz2ZK4C3MEYJ"
      },
      "id": "Gz2ZK4C3MEYJ",
      "execution_count": 20,
      "outputs": []
    },
    {
      "cell_type": "markdown",
      "id": "028a91a0-ea4e-49ec-8efb-580e5d41c7bf",
      "metadata": {
        "id": "028a91a0-ea4e-49ec-8efb-580e5d41c7bf"
      },
      "source": [
        "### Regression Imputation:\n",
        "\n",
        "-   **Use when**: The missingness is MAR (Missing at Random) and can be predicted using other variables in the dataset.\n",
        "\n",
        "### How to Implement Regression Imputation\n",
        "\n",
        "-   **Principle**: This technique involves using regression models to predict the missing values based on other, related variables.\n",
        "-   **Steps**:\n",
        "    1.  Develop a regression model using variables that do not have missing values as predictors.\n",
        "    2.  Use this model to predict the missing values in the target variable.\n",
        "-   **Python Code**: Specific implementation depends on the dataset and choice of regression model (e.g., Linear Regression, Logistic Regression).\n",
        "\n",
        "### Best Practices for Regression Imputation\n",
        "\n",
        "-   **Avoid Using Imputed Variable as a Predictor**: Do not use the variable for which values are imputed as a predictor in the same model to avoid introducing bias.\n",
        "-   **Model Selection**: The choice of regression model should be based on the nature of the data and the relationship between variables.\n",
        "-   **Evaluate Model Fit**: Ensure the regression model adequately fits the data. Poorly fitted models can lead to inaccurate imputations.\n",
        "-   **Multiple Imputation Consideration**: For more robust results, consider multiple imputation, where the process is repeated multiple times, and the results are averaged."
      ]
    },
    {
      "cell_type": "markdown",
      "id": "35d0a91e-b91d-4bc1-abb1-9d4cd6de01ab",
      "metadata": {
        "id": "35d0a91e-b91d-4bc1-abb1-9d4cd6de01ab"
      },
      "source": [
        "## Step 4: Handling MNAR Data (Missing Not at Random)\n",
        "\n",
        "### Approach\n",
        "\n",
        "When dealing with Missing Not at Random (MNAR) data, the missingness is related to the unobserved data itself. This type of missing data requires more sophisticated approaches, such as data augmentation or model-based methods.\n",
        "\n",
        "### Data Augmentation Methods\n",
        "\n",
        "-   **Principle**: Data augmentation involves artificially creating data points based on the characteristics of the existing dataset.\n",
        "-   **Usage**: It can be used when the pattern of missingness provides information that can be modeled.\n",
        "\n",
        "### Model-Based Methods\n",
        "\n",
        "-   **Principle**: These methods involve building statistical models that directly account for the mechanism of missingness.\n",
        "-   **Usage**: Commonly used in scenarios where the reasons for missingness are complex and intertwined with the unobserved values."
      ]
    },
    {
      "cell_type": "markdown",
      "id": "f161e9d1-74d3-4308-8b38-61310aea6582",
      "metadata": {
        "id": "f161e9d1-74d3-4308-8b38-61310aea6582"
      },
      "source": [
        "### Example Code: Handling MNAR Data Using Model-Based Approach\n",
        "\n",
        "```python\n",
        "from sklearn.experimental import enable_iterative_imputer\n",
        "from sklearn.impute import IterativeImputer\n",
        "import numpy as np\n",
        "from sklearn.linear_model import BayesianRidge\n",
        "\n",
        "#Using Iterative Imputer with BayesianRidge estimator\n",
        "iterative_imputer = IterativeImputer(estimator=BayesianRidge(), missing_values=np.nan, max_iter=10, random_state=0)\n",
        "\n",
        "#Assuming 'titanic_data' has some MNAR data\n",
        "titanic_data_imputed = iterative_imputer.fit_transform(titanic_data)\n",
        "\n",
        "#Replace original data with imputed data\n",
        "titanic_data = pd.DataFrame(titanic_data_imputed, columns=titanic_data.columns)\n",
        "```"
      ]
    },
    {
      "cell_type": "code",
      "source": [
        "# from sklearn.experimental import enable_iterative_imputer\n",
        "# from sklearn.impute import IterativeImputer\n",
        "# import numpy as np\n",
        "# from sklearn.linear_model import BayesianRidge\n",
        "\n",
        "# # Using Iterative Imputer with BayesianRidge estimator\n",
        "# iterative_imputer = IterativeImputer(estimator=BayesianRidge(), missing_values=np.nan, max_iter=10, random_state=0)\n",
        "\n",
        "# # Assuming 'titanic_data' has some MNAR data\n",
        "# titanic_data_imputed = iterative_imputer.fit_transform(titanic_data)\n",
        "\n",
        "# # Replace original data with imputed data\n",
        "# titanic_data = pd.DataFrame(titanic_data_imputed, columns=titanic_data.columns)"
      ],
      "metadata": {
        "id": "JNymGeIdMIfa"
      },
      "id": "JNymGeIdMIfa",
      "execution_count": 21,
      "outputs": []
    },
    {
      "cell_type": "markdown",
      "id": "a6aa0cd8-ab50-46ef-afd2-967d3f825a17",
      "metadata": {
        "id": "a6aa0cd8-ab50-46ef-afd2-967d3f825a17"
      },
      "source": [
        "### Best Practices for Handling MNAR Data\n",
        "\n",
        "-   **Model Selection**: The choice of the model should align with the assumed mechanism of missingness. For instance, Bayesian models can incorporate prior beliefs about the missingness.\n",
        "-   **Multiple Imputation**: It's often recommended to use multiple imputation techniques, which involve creating several imputed datasets and combining the results, to account for the uncertainty in the imputation process.\n",
        "-   **Domain Knowledge**: Integrating domain knowledge is crucial to understand and model the reasons behind the missingness effectively.\n",
        "-   **Sensitivity Analysis**: After imputation, performing a sensitivity analysis to understand how different assumptions about the missing data mechanism affect the results can provide insights into the robustness of the conclusions.\n",
        "\n",
        "### Formulas and Statistical Models\n",
        "\n",
        "-   **Bayesian Models**: Bayesian models, like Bayesian Ridge Regression used in the example, combine prior distributions (beliefs about the data before observing it) with the likelihood of the observed data to estimate the posterior distribution of the model parameters.\n",
        "-   **Iterative Imputer Formula**: The Iterative Imputer, in its essence, uses a round-robin approach, modeling each feature with missing values as a function of other features in a round-robin or chained fashion."
      ]
    },
    {
      "cell_type": "markdown",
      "id": "5d30eb1a-c539-423b-a0f2-59e7c6392d5b",
      "metadata": {
        "id": "5d30eb1a-c539-423b-a0f2-59e7c6392d5b"
      },
      "source": [
        "## Step 5: Evaluating the Impact of Imputation\n",
        "\n",
        "### Objective\n",
        "\n",
        "To assess how different imputation methods affect the distribution and overall quality of the dataset. Visualization plays a key role in this evaluation.\n",
        "\n",
        "### Python Visualization Techniques\n",
        "\n",
        "The primary goal of visualization in this context is to compare the distribution of data before and after imputation to gauge the impact of the imputation technique.\n",
        "\n",
        "### Using Histograms\n",
        "\n",
        "-   **Purpose**: To visualize the frequency distribution of continuous variables.\n",
        "-   **When to Use**: Ideal for assessing the impact on variables like 'Age' where you're interested in understanding the spread and central tendency.\n",
        "\n",
        "### Using Scatter Plots\n",
        "\n",
        "-   **Purpose**: To observe the relationship between two continuous variables.\n",
        "-   **When to Use**: Useful to examine if relationships between variables are preserved post-imputation."
      ]
    },
    {
      "cell_type": "markdown",
      "id": "891dadaf-362c-48a9-ace6-90bb9c056773",
      "metadata": {
        "id": "891dadaf-362c-48a9-ace6-90bb9c056773"
      },
      "source": [
        "### Example Code for Visualization\n",
        "\n",
        "#### Histogram for 'Age'\n",
        "\n",
        "\n",
        "```python\n",
        "import matplotlib.pyplot as plt\n",
        "\n",
        "#Histogram of 'Age' before imputation\n",
        "plt.hist(titanic_data_original['Age'].dropna(), bins=20, alpha=0.5, color='blue', label='Original')\n",
        "#Histogram of 'Age' after imputation\n",
        "plt.hist(titanic_data_imputed['Age'], bins=20, alpha=0.5, color='green', label='Imputed')\n",
        "plt.xlabel('Age')\n",
        "plt.ylabel('Frequency')\n",
        "plt.title('Comparison of Age Distribution: Original vs. Imputed')\n",
        "plt.legend()\n",
        "plt.show()\n",
        "```"
      ]
    },
    {
      "cell_type": "code",
      "source": [
        "import matplotlib.pyplot as plt\n",
        "\n",
        "# Histogram of 'Age' before imputation\n",
        "plt.hist(titanic_data_original['Age'].dropna(), bins=20, alpha=0.5, color='blue', label='Original')\n",
        "# Histogram of 'Age' after imputation\n",
        "plt.hist(titanic_data['Age'], bins=20, alpha=0.5, color='green', label='Imputed')\n",
        "plt.xlabel('Age')\n",
        "plt.ylabel('Frequency')\n",
        "plt.title('Comparison of Age Distribution: Original vs. Imputed')\n",
        "plt.legend()\n",
        "plt.show()"
      ],
      "metadata": {
        "colab": {
          "base_uri": "https://localhost:8080/",
          "height": 472
        },
        "id": "Z9ofgJBzMUfx",
        "outputId": "1baf21d7-eb7f-46da-ef4f-f9e7b814cc85"
      },
      "id": "Z9ofgJBzMUfx",
      "execution_count": 22,
      "outputs": [
        {
          "output_type": "display_data",
          "data": {
            "text/plain": [
              "<Figure size 640x480 with 1 Axes>"
            ],
            "image/png": "[encoded data removed]"
          },
          "metadata": {}
        }
      ]
    },
    {
      "cell_type": "markdown",
      "id": "49b5d2cb-a31b-4ac8-b1a8-5f9f3e9a8285",
      "metadata": {
        "id": "49b5d2cb-a31b-4ac8-b1a8-5f9f3e9a8285"
      },
      "source": [
        "#### Scatter Plot for Two Variables\n",
        "\n",
        "```python\n",
        "#Scatter plot to compare relationships - Example with 'Age' and 'Fare'\n",
        "plt.scatter(titanic_data_original['Age'], titanic_data_original['Fare'], alpha=0.5, label='Original')\n",
        "plt.scatter(titanic_data_imputed['Age'], titanic_data_imputed['Fare'], alpha=0.5, label='Imputed')\n",
        "plt.xlabel('Age')\n",
        "plt.ylabel('Fare')\n",
        "plt.title('Age vs. Fare: Original vs. Imputed')\n",
        "plt.legend()\n",
        "plt.show()\n",
        "```"
      ]
    },
    {
      "cell_type": "code",
      "source": [
        "# Scatter plot to compare relationships - Example with 'Age' and 'Fare'\n",
        "plt.scatter(titanic_data_original['Age'], titanic_data_original['Fare'], alpha=0.5, c='b', label='Original')\n",
        "plt.scatter(titanic_data['Age'], titanic_data['Fare'], alpha=0.5, c='r', label='Imputed')\n",
        "plt.xlabel('Age')\n",
        "plt.ylabel('Fare')\n",
        "plt.title('Age vs. Fare: Original vs. Imputed')\n",
        "plt.legend()\n",
        "plt.show()"
      ],
      "metadata": {
        "colab": {
          "base_uri": "https://localhost:8080/",
          "height": 472
        },
        "id": "dQcULGn0OYKq",
        "outputId": "70a2b3d6-c9d0-42df-cfd7-3ba09184445b"
      },
      "id": "dQcULGn0OYKq",
      "execution_count": 31,
      "outputs": [
        {
          "output_type": "display_data",
          "data": {
            "text/plain": [
              "<Figure size 640x480 with 1 Axes>"
            ],
            "image/png": "[encoded data removed]"
          },
          "metadata": {}
        }
      ]
    },
    {
      "cell_type": "markdown",
      "id": "83bd681f-6184-474d-9661-25aa07db1af6",
      "metadata": {
        "id": "83bd681f-6184-474d-9661-25aa07db1af6"
      },
      "source": [
        "### Best Practices for Evaluating Imputation\n",
        "\n",
        "-   **Compare Distributions**: Always compare the distributions before and after imputation to ensure that the imputation method hasn't significantly altered the data's structure.\n",
        "-   **Look for Anomalies**: After imputation, be on the lookout for any unusual patterns such as spikes in the data which weren't there originally.\n",
        "-   **Consistency in Relationships**: Ensure that the relationships between variables remain consistent post-imputation."
      ]
    },
    {
      "cell_type": "markdown",
      "id": "6361d1de-e7af-4c4d-85a1-368e1b26428b",
      "metadata": {
        "id": "6361d1de-e7af-4c4d-85a1-368e1b26428b"
      },
      "source": [
        "## Step 6: Homework Assignment\n",
        "\n",
        "- Task: Apply techniques to \"Titanic\" dataset from Kaggle.\n",
        "- Report: Analyze the effectiveness and impact of each technique on the dataset and model performance."
      ]
    },
    {
      "cell_type": "markdown",
      "id": "a3526df5-3b51-43f6-aa4d-0203b23a3f06",
      "metadata": {
        "jp-MarkdownHeadingCollapsed": true,
        "tags": [],
        "id": "a3526df5-3b51-43f6-aa4d-0203b23a3f06"
      },
      "source": [
        "## Best Practices and Considerations\n",
        "\n",
        "-   **Preventing Data Leakage**: Split dataset before imputation.\n",
        "-   **Choosing the Right Method**: Analyze missingness type.\n",
        "-   **Avoid Overfitting**: Be cautious with complex methods.\n",
        "-   **Documenting Changes**: Keep track of changes for transparency.\n",
        "-   **Impact Assessment**: Evaluate how"
      ]
    },
    {
      "cell_type": "markdown",
      "id": "d9c82d31-2845-4573-9a7e-4053a9cb6c45",
      "metadata": {
        "id": "d9c82d31-2845-4573-9a7e-4053a9cb6c45"
      },
      "source": [
        "## Testing Data"
      ]
    },
    {
      "cell_type": "markdown",
      "id": "fe3d38e3-cc80-4a42-80ab-ee50a263df73",
      "metadata": {
        "id": "fe3d38e3-cc80-4a42-80ab-ee50a263df73"
      },
      "source": [
        "## Integrating Little's MCAR Test Using rpy2\n",
        "\n",
        "### Setting Up rpy2\n",
        "```python\n",
        "import rpy2.robjects as robjects\n",
        "from rpy2.robjects.packages import importr\n",
        "from rpy2.robjects import pandas2ri, globalenv\n",
        "\n",
        "base = importr(\"base\")\n",
        "utils = importr(\"utils\")\n",
        "\n",
        "utils.chooseCRANmirror(ind=1)\n",
        "pandas2ri.activate()\n",
        "\n",
        "# Enable R magic in Jupyter\n",
        "%load_ext rpy2.ipython\n",
        "```"
      ]
    },
    {
      "cell_type": "markdown",
      "id": "42e5f4d3-2981-4e4a-bac5-351188b0f6e1",
      "metadata": {
        "id": "42e5f4d3-2981-4e4a-bac5-351188b0f6e1"
      },
      "source": [
        "## Installing R Packages\n",
        "\n",
        "```python\n",
        "utils.install_packages(\"remotes\")\n",
        "%R remotes::install_github(\"njtierney/naniar\")\n",
        "%R library(naniar)\n",
        "```"
      ]
    },
    {
      "cell_type": "markdown",
      "id": "34af776e-3503-4d63-8e7e-9383a9dc0583",
      "metadata": {
        "id": "34af776e-3503-4d63-8e7e-9383a9dc0583"
      },
      "source": [
        "## Performing Little's MCAR Test\n",
        "\n",
        "```python\n",
        "globalenv[\"r_df\"] = titanic_data\n",
        "%R mcar_test(r_df)\n",
        "```"
      ]
    },
    {
      "cell_type": "markdown",
      "id": "f5310a16-4fd7-4777-92f4-f10b3e1a257c",
      "metadata": {
        "id": "f5310a16-4fd7-4777-92f4-f10b3e1a257c"
      },
      "source": [
        "## Practical Tips for Discerning Missing Data Types\n",
        "\n",
        "-   **MCAR**: Use statistical tests and consistency checks across variables.\n",
        "-   **MAR vs. MNAR**: Requires domain knowledge and statistical analyses (e.g., using classifiers to predict missingness).\n",
        "-   **Consult Experts**: Especially for MNAR, expert insights are invaluable."
      ]
    },
    {
      "cell_type": "markdown",
      "id": "e01ac4c0-dc77-4865-90a0-837965751b00",
      "metadata": {
        "id": "e01ac4c0-dc77-4865-90a0-837965751b00"
      },
      "source": [
        "### **Additional Resources (Train/Test Splitting | Data Leakage)**\n",
        "\n",
        "https://www.simplilearn.com/data-imputation-article\n",
        "\n",
        "https://www.analyticsvidhya.com/blog/2021/06/defining-analysing-and-implementing-imputation-techniques/\n",
        "\n",
        "https://machinelearningmastery.com/statistical-imputation-for-missing-values-in-machine-learning/\n",
        "\n",
        "https://www.theanalysisfactor.com/seven-ways-to-make-up-data-common-methods-to-imputing-missing-data/\n",
        "\n",
        "https://dataaspirant.com/data-imputation-techniques/"
      ]
    }
  ],
  "metadata": {
    "kernelspec": {
      "display_name": "Python 3 (ipykernel)",
      "language": "python",
      "name": "python3"
    },
    "language_info": {
      "codemirror_mode": {
        "name": "ipython",
        "version": 3
      },
      "file_extension": ".py",
      "mimetype": "text/x-python",
      "name": "python",
      "nbconvert_exporter": "python",
      "pygments_lexer": "ipython3",
      "version": "3.11.5"
    },
    "colab": {
      "provenance": []
    }
  },
  "nbformat": 4,
  "nbformat_minor": 5
}