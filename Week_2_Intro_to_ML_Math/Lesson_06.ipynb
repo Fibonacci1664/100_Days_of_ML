{
  "cells": [
    {
      "cell_type": "markdown",
      "id": "0c810b10-1b41-4e25-91c1-5a3e910b4ae1",
      "metadata": {
        "tags": [],
        "id": "0c810b10-1b41-4e25-91c1-5a3e910b4ae1"
      },
      "source": [
        "# Lesson 6: Linear Algebra - Vector Operations in Python"
      ]
    },
    {
      "cell_type": "markdown",
      "id": "8413f05a-0b2e-4301-869e-28378a71dc45",
      "metadata": {
        "tags": [],
        "id": "8413f05a-0b2e-4301-869e-28378a71dc45"
      },
      "source": [
        "## Introduction to Vectors\n",
        "### What is a Vector?\n",
        "\n",
        "- **Definition:** A vector is an ordered collection of values, often represented as an array or a list. In mathematics and programming, vectors are used to represent quantities that have both magnitude and direction. They are essential for various tasks in linear algebra, machine learning, and data analysis. A vector may be represented as:\n",
        "\n",
        "  $$\n",
        "  \\mathbf{v} = \\begin{bmatrix}\n",
        "  v_1 \\\\\n",
        "  v_2 \\\\\n",
        "  \\vdots \\\\\n",
        "  v_n\n",
        "  \\end{bmatrix}\n",
        "  $$\n",
        "\n",
        "  where $n$ represents the number of components or elements in the vector.\n",
        "  \n",
        "Vectors in mathematics and physics possess both magnitude and direction:\n",
        "\n",
        "1. **Magnitude:**\n",
        "- Magnitude represents the size or length of a vector.\n",
        "- It is denoted as $||v||$ or $|v|$ for a vector $(v)$.\n",
        "- Magnitude is a non-negative scalar value.\n",
        "   \n",
        "2. **Direction:**\n",
        "- Direction indicates where the vector points in space.\n",
        "- It specifies the orientation of the vector relative to a reference frame.\n",
        "- Direction can be represented using angles, unit vectors, or specific directions in a coordinate system.\n",
        "\n",
        "**To fully describe a vector, both its magnitude and direction are essential.**\n",
        "While vectors have **BOTH** magnitude and direction. (i.e. A car traveling 60kph, NE), a scalar represents **ONLY** magnitude (i.e. distance, speed, measurement)\n",
        "\n",
        "\n",
        "- **Importance:** Vectors are of paramount importance in various scientific and engineering disciplines due to their versatility in representing both magnitude and direction. Just like matrices, vectors find wide-ranging applications:\n",
        "\n",
        "- In physics: Vectors are fundamental for describing physical quantities such as force, velocity, acceleration, and displacement. They help analyze the motion and interactions of objects.\n",
        "  \n",
        "- In engineering: Vectors are used to represent the direction of loads, forces, and other structural elements in civil engineering, mechanical engineering, and electrical engineering.\n",
        "  \n",
        "- In computer science: Vectors are indispensable in data structures and algorithms, particularly in machine learning and artificial intelligence, where they are used to represent and process data, such as feature vectors for classification tasks.\n",
        "\n",
        "Vectors are a fundamental concept in mathematics and science, providing a concise and powerful means to represent a wide range of real-world phenomena and mathematical relationships. Understanding vectors is essential for tackling complex problems across various fields.\n"
      ]
    },
    {
      "cell_type": "markdown",
      "id": "ee5e8c5d-9493-4dc4-ade7-b514e8c2d80a",
      "metadata": {
        "id": "ee5e8c5d-9493-4dc4-ade7-b514e8c2d80a"
      },
      "source": [
        "## Vector Representation in Python"
      ]
    },
    {
      "cell_type": "markdown",
      "id": "589db283-4112-4390-9496-e355d43add48",
      "metadata": {
        "id": "589db283-4112-4390-9496-e355d43add48"
      },
      "source": [
        "### **Activity 1: Representing Vectors in Python**\n",
        "\n",
        "-   **Objective:** Learn to create vectors using NumPy arrays.\n",
        "-   **Why Python and NumPy?:** Python, with NumPy, is efficient and straightforward for handling mathematical operations, including vector manipulations."
      ]
    },
    {
      "cell_type": "code",
      "execution_count": 1,
      "id": "b7b2249f-e97c-46e9-b1f5-e79f55832064",
      "metadata": {
        "colab": {
          "base_uri": "https://localhost:8080/"
        },
        "id": "b7b2249f-e97c-46e9-b1f5-e79f55832064",
        "outputId": "c1b1447c-1039-492d-c5d1-d8c3507963db"
      },
      "outputs": [
        {
          "output_type": "stream",
          "name": "stdout",
          "text": [
            "Vector v: [1 3 5 7]\n"
          ]
        }
      ],
      "source": [
        "import numpy as np\n",
        "# Creating a vector\n",
        "x = np.array([1, 3, 5, 7])\n",
        "\n",
        "print(\"Vector v:\", x)"
      ]
    },
    {
      "cell_type": "markdown",
      "id": "8df1f2dd-ef0f-493f-a761-1031a984f69a",
      "metadata": {
        "id": "8df1f2dd-ef0f-493f-a761-1031a984f69a"
      },
      "source": [
        "- Indexing - Python is 0-indexed. When you are calling things from a 'list', vector, etc. The first number is actually at the 0 place."
      ]
    },
    {
      "cell_type": "code",
      "execution_count": 3,
      "id": "a0e273d4-9c76-49e4-b187-2598273ab142",
      "metadata": {
        "tags": [],
        "colab": {
          "base_uri": "https://localhost:8080/"
        },
        "id": "a0e273d4-9c76-49e4-b187-2598273ab142",
        "outputId": "af51b890-d037-4c92-b0e5-8cac09e37f19"
      },
      "outputs": [
        {
          "output_type": "stream",
          "name": "stdout",
          "text": [
            "Vector x at index 0: 1\n",
            "Vector x at index 1: 3\n"
          ]
        }
      ],
      "source": [
        "print(\"Vector x at index 0:\", x[0])\n",
        "print(\"Vector x at index 1:\", x[1])"
      ]
    },
    {
      "cell_type": "markdown",
      "id": "e2a6d222-9c11-4beb-9d2a-34aeb8e61713",
      "metadata": {
        "id": "e2a6d222-9c11-4beb-9d2a-34aeb8e61713"
      },
      "source": [
        "## Basic Vector Operations"
      ]
    },
    {
      "cell_type": "markdown",
      "id": "55b979ed-ba50-41b4-bd8e-04d0887d2702",
      "metadata": {
        "id": "55b979ed-ba50-41b4-bd8e-04d0887d2702"
      },
      "source": [
        "### **Activity 2: Basic Vector Operations**\n",
        "\n",
        "-   **Objective:** Understand and perform vector addition, subtraction, and scalar multiplication.\n",
        "-   **Why This Matters:** These operations are foundational for complex computations and are widely used in fields like physics."
      ]
    },
    {
      "cell_type": "code",
      "execution_count": 4,
      "id": "e234db6e-ad4d-492d-b560-bec06a360515",
      "metadata": {
        "colab": {
          "base_uri": "https://localhost:8080/"
        },
        "id": "e234db6e-ad4d-492d-b560-bec06a360515",
        "outputId": "044ef377-d7dd-4400-ccc6-574e9a4ba481"
      },
      "outputs": [
        {
          "output_type": "stream",
          "name": "stdout",
          "text": [
            "Vector 1: [3 4]\n",
            "Vector 2: [1 2]\n"
          ]
        }
      ],
      "source": [
        "import numpy as np\n",
        "\n",
        "# Creating two vectors to represent data points\n",
        "x1 = np.array([3, 4])\n",
        "y1 = np.array([1, 2])\n",
        "\n",
        "# Display the vectors\n",
        "print(\"Vector 1:\", x1)\n",
        "print(\"Vector 2:\", y1)"
      ]
    },
    {
      "cell_type": "markdown",
      "id": "b7d4e7e0-fe6d-4cfe-ad24-373f595d08c7",
      "metadata": {
        "id": "b7d4e7e0-fe6d-4cfe-ad24-373f595d08c7"
      },
      "source": [
        "## Vector addition, subtraction\n",
        "- **Why This Matters** : Feature Engineering\n",
        "\n",
        "Machine learning models often benefit from well-designed features. Vector addition and subtraction are crucial for feature engineering. For example, in image processing, subtracting background color vectors from images can enhance object recognition, making it easier to identify handwritten digits in optical character recognition (OCR).\n",
        "\n",
        "For any vectors, whether it is x, y, z (of the same size/shape)\n",
        "- The following properties are true:\n",
        "1. Vector addition is commutative $x+y = y+x$\n",
        "2. Vector addition is associative: $(x+y)+z = x+(y+z)$. Therefore $x+y+z$ is true.\n",
        "3. Adding a zero vector to a vector has no effect: $x+0 = 0+x = x$.\n",
        "4. Subtracting a vector from itself as long as the size and shape are the same yields a zero vector $(x-x=0)$"
      ]
    },
    {
      "cell_type": "code",
      "execution_count": 5,
      "id": "9acef699-c714-4d78-b339-b67184bc6a7c",
      "metadata": {
        "colab": {
          "base_uri": "https://localhost:8080/"
        },
        "id": "9acef699-c714-4d78-b339-b67184bc6a7c",
        "outputId": "1c333a0b-ca8f-4795-de79-cd68f98c3b81"
      },
      "outputs": [
        {
          "output_type": "stream",
          "name": "stdout",
          "text": [
            "Sum: [4 6]\n",
            "Added Vectors: [4 6]\n",
            "Difference: [2 2]\n"
          ]
        }
      ],
      "source": [
        "# Adding the vectors\n",
        "sum = x1 + y1\n",
        "print(\"Sum:\", sum)\n",
        "\n",
        "#OR\n",
        "\n",
        "x_add = np.add(x1, y1)\n",
        "print(\"Added Vectors:\", x_add)\n",
        "\n",
        "# Subtracting the vectors\n",
        "difference = x1 - y1\n",
        "print(\"Difference:\", difference)"
      ]
    },
    {
      "cell_type": "markdown",
      "id": "1cee2077-860b-4d04-bc83-c500ff9875b8",
      "metadata": {
        "id": "1cee2077-860b-4d04-bc83-c500ff9875b8"
      },
      "source": [
        "## Scalar or Vector Multiplication (One Vector x One Scalar)\n",
        "\n",
        "- **Why This Matters:** Learning Rate Adjustment\n",
        "\n",
        "    In machine learning, gradient-based optimization algorithms, like stochastic gradient descent (SGD), require a learning rate. Scalar multiplication plays a pivotal role in adjusting the learning rate. For instance, when training a neural network, scaling the learning rate dynamically based on the progress of training helps avoid overshooting or slow convergence, ensuring effective model training.\n",
        "    \n",
        "For any vectors $x, y$ and scalars $a, b$\n",
        "\n",
        "- The following properties are true:\n",
        "1. Scalar-vector multiplication is commutative: $ax = x * a$\n",
        "2. Scalar-vector multiplication is associative: $(ab)x = a(bx)$\n",
        "3. Scalar-vector mulitplication is distributive: $a(x+y) = ax+ay, (x+y)a = xa+ya, (a+b)x=ax+bx$"
      ]
    },
    {
      "cell_type": "code",
      "execution_count": 6,
      "id": "c28096f7-b7f4-4dff-9eb0-03c9e80de421",
      "metadata": {
        "tags": [],
        "colab": {
          "base_uri": "https://localhost:8080/"
        },
        "id": "c28096f7-b7f4-4dff-9eb0-03c9e80de421",
        "outputId": "7d6c4e12-b6f9-410d-acc8-0f9a595602d2"
      },
      "outputs": [
        {
          "output_type": "stream",
          "name": "stdout",
          "text": [
            "Scaled: [6 8]\n",
            "Scalar Multiplication: [6 8]\n"
          ]
        }
      ],
      "source": [
        "# Scalar multiplication\n",
        "scaled = x1 * 2\n",
        "print(\"Scaled:\", scaled)\n",
        "\n",
        "#OR\n",
        "\n",
        "scalar = 2\n",
        "x_scalar_mult = x1 * scalar\n",
        "print(\"Scalar Multiplication:\", x_scalar_mult)"
      ]
    },
    {
      "cell_type": "markdown",
      "id": "26da7148-0355-4263-87d2-273a57b903d9",
      "metadata": {
        "id": "26da7148-0355-4263-87d2-273a57b903d9"
      },
      "source": [
        "## Vector Magnitude and Direction"
      ]
    },
    {
      "cell_type": "markdown",
      "id": "00b7f66f-e87a-4d2d-9411-175844eecaa7",
      "metadata": {
        "id": "00b7f66f-e87a-4d2d-9411-175844eecaa7"
      },
      "source": [
        "### **Activity 3: Vector Magnitude and Direction**\n",
        "\n",
        "-   **Objective:** Calculate the magnitude and direction of a vector.\n",
        "-   **Real-world Relevance:** Crucial in navigation, robotics, and physics for understanding vector length and orientation."
      ]
    },
    {
      "cell_type": "code",
      "execution_count": 7,
      "id": "0455338d-7fd9-475b-8c2f-e1282a0271a0",
      "metadata": {
        "colab": {
          "base_uri": "https://localhost:8080/"
        },
        "id": "0455338d-7fd9-475b-8c2f-e1282a0271a0",
        "outputId": "e5d97b7a-c456-4902-e7e3-3225039b248d"
      },
      "outputs": [
        {
          "output_type": "stream",
          "name": "stdout",
          "text": [
            "Magnitude of x1: 5.0\n",
            "Direction of x1: 0.9272952180016122 radians\n"
          ]
        }
      ],
      "source": [
        "# Calculating magnitude and direction\n",
        "magnitude = np.linalg.norm(x1)\n",
        "direction = np.arctan2(x1[1], x1[0])\n",
        "\n",
        "print(\"Magnitude of x1:\", magnitude)\n",
        "print(\"Direction of x1:\", direction, \"radians\")"
      ]
    },
    {
      "cell_type": "markdown",
      "id": "1e6d64d0-6c98-4633-b4b8-427c537550ae",
      "metadata": {
        "id": "1e6d64d0-6c98-4633-b4b8-427c537550ae"
      },
      "source": [
        "## Advanced Vector Operations: Dot Product (Scalar Product)"
      ]
    },
    {
      "cell_type": "markdown",
      "id": "eb6848ea-1f16-4d05-baa9-1d1e488f2570",
      "metadata": {
        "tags": [],
        "id": "eb6848ea-1f16-4d05-baa9-1d1e488f2570"
      },
      "source": [
        "- **Why This Matters:** Text Classification\n",
        "\n",
        "    Dot products are fundamental for text classification in natural language processing (NLP). By calculating dot products between word vectors and predefined sentiment vectors, you can determine the sentiment of a text. This enables automated sentiment analysis for large volumes of text data.\n",
        "\n",
        "The dot product (also known as scalar product) is a way to multiply vectors that results in a scalar (a single number, not a vector).\n",
        "\n",
        "### Definition\n",
        "\n",
        "Given two vectors $( \\mathbf{x} $) and $( \\mathbf{y} $) in $( \\mathbb{R}^n $) (n-dimensional real number space), the dot product is defined as:\n",
        "\n",
        "$$\n",
        "[\\mathbf{x} \\cdot \\mathbf{y} = \\sum_{i=1}^{n} x_i y_i]\n",
        "$$\n",
        "\n",
        "where $( x_i $) and $( y_i $) are components of vectors $( \\mathbf{x} $) and $( \\mathbf{y} $), respectively.\n",
        "\n",
        "### Geometric Interpretation\n",
        "\n",
        "The dot product can also be expressed as:\n",
        "\n",
        "$$\n",
        "[\\mathbf{x} \\cdot \\mathbf{y} = |\\mathbf{x}| |\\mathbf{y}| \\cos(\\theta)]\n",
        "$$\n",
        "\n",
        "where:\n",
        "- $( |\\mathbf{x}$| ) is the magnitude of vector $( \\mathbf{x} $)\n",
        "- $( |\\mathbf{y}$| ) is the magnitude of vector $( \\mathbf{y} $)\n",
        "- $( \\theta $) is the angle between $( \\mathbf{x} $) and $( \\mathbf{y} $)\n",
        "\n",
        "### Properties\n",
        "\n",
        "1. **Commutative**: $( \\mathbf{x} \\cdot \\mathbf{y} = \\mathbf{y} \\cdot \\mathbf{x} $)\n",
        "2. **Distributive over vector addition**: $( \\mathbf{x} \\cdot (\\mathbf{y} + \\mathbf{a}) = \\mathbf{x} \\cdot \\mathbf{y} + \\mathbf{x} \\cdot \\mathbf{a} $)\n",
        "3. **Bilinear**:$( a(\\mathbf{x} \\cdot \\mathbf{y}) = (a\\mathbf{x}) \\cdot \\mathbf{y} = \\mathbf{x} \\cdot (a\\mathbf{y}) $), where $( a $) is a scalar.\n",
        "\n",
        "### Applications\n",
        "\n",
        "- **Determining Orthogonality**: Two vectors are orthogonal (perpendicular) if their dot product is zero.\n",
        "- **Projection**: Projecting one vector onto another.\n",
        "- **Finding Angles**: The angle between two vectors can be determined using the dot product formula.\n",
        "\n",
        "## Example\n",
        "\n",
        "Let's calculate the dot product of two vectors in $( \\mathbb{R}^3 $):\n",
        "\n",
        "$$\n",
        "\\mathbf{x} = \\begin{bmatrix} 1 \\\\ 3 \\\\ -5 \\end{bmatrix}, \\quad \\mathbf{y} = \\begin{bmatrix} 4 \\\\ -2 \\\\ -1 \\end{bmatrix}\n",
        "$$\n",
        "\n",
        "The dot product is:\n",
        "\n",
        "$$\n",
        "[\\mathbf{x} \\cdot \\mathbf{y} = (1)(4) + (3)(-2) + (-5)(-1) = 4 - 6 + 5 = 3]\n",
        "$$\n",
        "\n"
      ]
    },
    {
      "cell_type": "code",
      "execution_count": 8,
      "id": "f1b5ac59-e1be-45ef-a5c2-218629444f71",
      "metadata": {
        "tags": [],
        "colab": {
          "base_uri": "https://localhost:8080/"
        },
        "id": "f1b5ac59-e1be-45ef-a5c2-218629444f71",
        "outputId": "a7ac9df5-37fb-47ea-9a21-ccb1ae82bad0"
      },
      "outputs": [
        {
          "output_type": "stream",
          "name": "stdout",
          "text": [
            "Dot Product: 11\n"
          ]
        }
      ],
      "source": [
        "# Dot and cross product\n",
        "dot_product = np.dot(x1, y1)\n",
        "x1_3D = np.append(x1, 0)\n",
        "y1_3D = np.append(y1, 0)\n",
        "\n",
        "print(\"Dot Product:\", dot_product)"
      ]
    },
    {
      "cell_type": "markdown",
      "id": "dd864931-4e4d-4408-84f4-907423e34597",
      "metadata": {
        "id": "dd864931-4e4d-4408-84f4-907423e34597"
      },
      "source": [
        "## Advanced Vector Operations: Cross Product (Vector Product)"
      ]
    },
    {
      "cell_type": "markdown",
      "id": "f9e0c977-4284-4881-ac8f-0006a51141a6",
      "metadata": {
        "tags": [],
        "id": "f9e0c977-4284-4881-ac8f-0006a51141a6"
      },
      "source": [
        "**Objective:** Learn the dot and cross product of vectors.\n",
        "\n",
        "- **Why This Matters:** 3D Graphics and Physics\n",
        "\n",
        "    Cross products are crucial in 3D graphics and physics, particularly for calculating normals to surfaces, which are essential for lighting and rendering. They are also used in physics for finding torques and rotational vectors, helping to understand the dynamics of rotating bodies.\n",
        "\n",
        "The cross product (also known as vector product) is an operation on two vectors in three-dimensional space, resulting in a vector that is perpendicular to both of the original vectors.\n",
        "\n",
        "### Definition\n",
        "\n",
        "Given two vectors $( \\mathbf{x} $) and $( \\mathbf{y} $) in $( \\mathby{R}^3 $) (three-dimensional real number space), the cross product is defined as:\n",
        "\n",
        "$$\n",
        "\\mathbf{x} \\cdot \\mathbf{y} = \\begin{vmatrix}\n",
        "\\mathbf{i} & \\mathbf{j} & \\mathbf{k} \\\\\n",
        "x_1 & x_2 & x_3 \\\\\n",
        "y_1 & y_2 & y_3\n",
        "\\end{vmatrix}\n",
        "$$\n",
        "\n",
        "where $( \\mathbf{i}, \\mathbf{j}, \\mathbf{k} $) are the unit vectors along the x, y, and z axes, and $( a_1, a_2, a_3 $) and $( b_1, b_2, b_3 $) are the components of vectors $( \\mathbf{x} $) and $( \\mathbf{y} $), respectively.\n",
        "\n",
        "### Geometric Interpretation\n",
        "\n",
        "The magnitude of the cross product is given by:\n",
        "\n",
        "\n",
        "$|\\mathbf{x}| \\cdot \\mathbf{y}|$ = $|\\mathbf{x}| |\\mathbf{y}| \\sin(\\theta)$\n",
        "\n",
        "where:\n",
        "- $( |\\mathbf{a}| $) and $( |\\mathbf{b}| $) are the magnitudes of vectors $( \\mathbf{x} $) and $( \\mathbf{y} $)\n",
        "- $( \\theta $) is the angle between $( \\mathbf{x} $) and $( \\mathbf{y} $)\n",
        "\n",
        "The direction of $( \\mathbf{x} \\cdot \\mathbf{y} $) is perpendicular to the plane formed by $( \\mathbf{x} $) and $( \\mathbf{y} $), determined by the right-hand rule.\n",
        "\n",
        "### Properties\n",
        "\n",
        "1. **Non-Commutative**: $( \\mathbf{x} \\cdot \\mathbf{y} = -(\\mathbf{y} \\cdot \\mathbf{x}) $)\n",
        "2. **Distributive over vector addition**: $( \\mathbf{x} \\cdot (\\mathbf{y} + \\mathbf{c}) = \\mathbf{x} \\cdot \\mathbf{y} + \\mathbf{x} \\cdot \\mathbf{c} $)\n",
        "3. **Not associative**: $( \\mathbf{x} \\cdot (\\mathbf{y} \\cdot \\mathbf{c}) \\neq (\\mathbf{x} \\cdot \\mathbf{y}) \\cdot \\mathbf{c} $)\n",
        "\n",
        "### Applications\n",
        "\n",
        "- **Normal Vector Calculation**: Computing a vector perpendicular to a plane in 3D space.\n",
        "- **Torque**: In physics, the cross product is used to determine the torque exerted by a force.\n",
        "- **Rotational Vectors**: Understanding the rotation of objects in three-dimensional space.\n",
        "\n",
        "## Example\n",
        "\n",
        "Let's calculate the cross product of two vectors in $( \\mathbb{R}^3 $):\n",
        "\n",
        "$$\n",
        "\\mathbf{x} = \\begin{bmatrix} 1 \\\\ 3 \\\\ -5 \\end{bmatrix}, \\quad \\mathbf{y} = \\begin{bmatrix} 4 \\\\ -2 \\\\ -1 \\end{bmatrix}\n",
        "$$\n",
        "\n",
        "The cross product is:\n",
        "\n",
        "$$\n",
        "\\mathbf{x} \\cdot \\mathbf{y} = \\begin{vmatrix}\n",
        "\\mathbf{i} & \\mathbf{j} & \\mathbf{k} \\\\\n",
        "1 & 3 & -5 \\\\\n",
        "4 & -2 & -1\n",
        "\\end{vmatrix} = \\mathbf{i}(3 \\cdot -1 - (-5) \\cdot -2) - \\mathbf{j}(1 \\cdot -1 - (-5) \\cdot 4) + \\mathbf{k}(1 \\cdot -2 - 3 \\cdot 4)\n",
        "$$\n",
        "\n",
        "Simplifying this, we get:\n",
        "\n",
        "$$\n",
        "\\mathbf{x} \\cdot \\mathbf{y} = -3\\mathbf{i} + 21\\mathbf{j} - 14\\mathbf{k}\n",
        "$$"
      ]
    },
    {
      "cell_type": "code",
      "execution_count": 9,
      "id": "38b41635-d7ec-4e92-a4f9-0870cdfbd414",
      "metadata": {
        "colab": {
          "base_uri": "https://localhost:8080/"
        },
        "id": "38b41635-d7ec-4e92-a4f9-0870cdfbd414",
        "outputId": "b4c5042a-f563-4a7e-d63a-92d2b0196e80"
      },
      "outputs": [
        {
          "output_type": "stream",
          "name": "stdout",
          "text": [
            "Cross Product: [0 0 2]\n"
          ]
        }
      ],
      "source": [
        "cross_product = np.cross(x1_3D, y1_3D)\n",
        "print(\"Cross Product:\", cross_product)"
      ]
    },
    {
      "cell_type": "markdown",
      "id": "19b4503d-39cc-458a-8124-401c7201af77",
      "metadata": {
        "id": "19b4503d-39cc-458a-8124-401c7201af77"
      },
      "source": [
        "### Vector Norm\n",
        "\n",
        "**Mathematical Formula**\n",
        "\n",
        "- L2 Norm: $(|\\mathbf{v}\\|_2 = \\sqrt{v_1^2 + v_2^2 + \\ldots + v_n^2})$\n",
        "\n",
        "**Why This Matters:**\n",
        "\n",
        "Vector norms are used in machine learning for regularization and similarity calculations.\n",
        "\n",
        "**Practical Example in Python**\n",
        "\n",
        "To calculate the L2 norm of a vector in Python, you can use the `numpy` library:\n"
      ]
    },
    {
      "cell_type": "code",
      "execution_count": 10,
      "id": "5d3336bc-51aa-4044-b353-276287b87bb8",
      "metadata": {
        "tags": [],
        "colab": {
          "base_uri": "https://localhost:8080/"
        },
        "id": "5d3336bc-51aa-4044-b353-276287b87bb8",
        "outputId": "7476417d-a7a6-4cce-96d3-e2f724a17c25"
      },
      "outputs": [
        {
          "output_type": "stream",
          "name": "stdout",
          "text": [
            "5.0\n"
          ]
        }
      ],
      "source": [
        "vector_v = np.array([3, 4])\n",
        "l2_norm = np.linalg.norm(vector_v)\n",
        "\n",
        "print(l2_norm)"
      ]
    },
    {
      "cell_type": "markdown",
      "id": "12bc943f-6c7e-4328-8dc9-77d467b13f66",
      "metadata": {
        "id": "12bc943f-6c7e-4328-8dc9-77d467b13f66"
      },
      "source": [
        "## Real-world Application: Vector in Computer Graphics"
      ]
    },
    {
      "cell_type": "markdown",
      "id": "ca19a0a1-7fa0-47b0-8ef4-5977fee42b21",
      "metadata": {
        "id": "ca19a0a1-7fa0-47b0-8ef4-5977fee42b21"
      },
      "source": [
        "### Coding Activity: Vector in Graphics\n",
        "\n",
        "-   **Objective:** Use vectors to simulate 2D graphical movement.\n",
        "-   **Why It's Important:** Understanding vector representation and manipulation in digital space is fundamental in computer graphics and game development."
      ]
    },
    {
      "cell_type": "markdown",
      "id": "eb8acfd1-ce54-4ce9-85bb-2a3367f4d375",
      "metadata": {
        "tags": [],
        "id": "eb8acfd1-ce54-4ce9-85bb-2a3367f4d375"
      },
      "source": [
        "## Simulating 2D movement with vectors"
      ]
    },
    {
      "cell_type": "code",
      "execution_count": 11,
      "id": "dadd3ff3-3b98-46b0-9527-065bf44b2f40",
      "metadata": {
        "tags": [],
        "colab": {
          "base_uri": "https://localhost:8080/"
        },
        "id": "dadd3ff3-3b98-46b0-9527-065bf44b2f40",
        "outputId": "06a8b0d1-d90f-4a92-8ea8-a14634e785aa"
      },
      "outputs": [
        {
          "output_type": "stream",
          "name": "stdout",
          "text": [
            "New Position: [1 1]\n"
          ]
        }
      ],
      "source": [
        "position = np.array([0, 0])\n",
        "movement = np.array([1, 1])\n",
        "new_position = position + movement\n",
        "\n",
        "print(\"New Position:\", new_position)"
      ]
    },
    {
      "cell_type": "markdown",
      "id": "1db851a5-da85-4ae7-900d-107ee4fefe04",
      "metadata": {
        "id": "1db851a5-da85-4ae7-900d-107ee4fefe04"
      },
      "source": [
        "## Physics and Engineering Applications of Vectors"
      ]
    },
    {
      "cell_type": "markdown",
      "id": "2ec95ac3-14a0-421b-b962-00dc551c5ab3",
      "metadata": {
        "id": "2ec95ac3-14a0-421b-b962-00dc551c5ab3"
      },
      "source": [
        "**Understanding Forces and Movements:**\n",
        "\n",
        "-   Application in Physics: Vectors represent forces and movements.\n",
        "-   Why It's Important: Predicting object movements under various conditions is crucial in mechanical and aerospace engineering."
      ]
    },
    {
      "cell_type": "code",
      "execution_count": 12,
      "id": "776cc345-52b4-456b-ab77-583bbc202edc",
      "metadata": {
        "tags": [],
        "colab": {
          "base_uri": "https://localhost:8080/"
        },
        "id": "776cc345-52b4-456b-ab77-583bbc202edc",
        "outputId": "ef74938b-4daa-4f82-8507-16e5f88de497"
      },
      "outputs": [
        {
          "output_type": "stream",
          "name": "stdout",
          "text": [
            "Force Vector: [2 5]\n"
          ]
        }
      ],
      "source": [
        "import numpy as np\n",
        "\n",
        "# Representing a force vector\n",
        "force = np.array([2, 5])  # Force vector with 2 units in the x-direction and 5 units in the y-direction\n",
        "print(\"Force Vector:\", force)"
      ]
    },
    {
      "cell_type": "markdown",
      "id": "6e2c5b1b-6ff0-468e-8a59-866808c693ca",
      "metadata": {
        "id": "6e2c5b1b-6ff0-468e-8a59-866808c693ca"
      },
      "source": [
        "**Structural Analysis:**\n",
        "\n",
        "-   Engineering Application: Vectors in civil engineering analyze forces on structures.\n",
        "-   Significance: Ensures safety and stability of structures like bridges and buildings."
      ]
    },
    {
      "cell_type": "markdown",
      "id": "c8361447-2d8f-41e3-be88-0ee92add3cef",
      "metadata": {
        "id": "c8361447-2d8f-41e3-be88-0ee92add3cef"
      },
      "source": [
        "## Machine Learning and Data Science"
      ]
    },
    {
      "cell_type": "markdown",
      "id": "c67a3073-330d-45d3-88fe-7d3377740c41",
      "metadata": {
        "id": "c67a3073-330d-45d3-88fe-7d3377740c41"
      },
      "source": [
        "**Vectors in Data Representation:**\n",
        "\n",
        "-   Application: Vectors represent data points in algorithms, with the dot product measuring similarity, important in clustering and classification.\n",
        "-   Why It Matters: Crucial for developing accurate models in machine learning."
      ]
    },
    {
      "cell_type": "markdown",
      "id": "e9554044-a61b-4f05-9710-44bdc2b3edc8",
      "metadata": {
        "id": "e9554044-a61b-4f05-9710-44bdc2b3edc8"
      },
      "source": [
        "**Optimizing Performance:**\n",
        "\n",
        "-   Data Science Utilization: Efficient vector manipulation optimizes complex data analyses.\n",
        "-   Importance: In big data, efficiency enables quicker and more precise data processing."
      ]
    },
    {
      "cell_type": "markdown",
      "id": "8667b0f5-3896-4acc-9327-d2218d9fbed8",
      "metadata": {
        "id": "8667b0f5-3896-4acc-9327-d2218d9fbed8"
      },
      "source": [
        "## Advanced Topics in Vector Operations"
      ]
    },
    {
      "cell_type": "markdown",
      "id": "56569889-a98b-4f7f-b882-7deb92819dbe",
      "metadata": {
        "id": "56569889-a98b-4f7f-b882-7deb92819dbe"
      },
      "source": [
        "**Eigenvalues and Eigenvectors:**\n",
        "\n",
        "-   Concept: Eigenvectors scale without changing direction under a linear transformation, while eigenvalues are the scalars of this scaling.\n",
        "-   Application: Crucial in systems of linear equations and machine learning algorithms."
      ]
    },
    {
      "cell_type": "markdown",
      "id": "ba1c4dd6-872d-496d-94f1-adfd33ee23a9",
      "metadata": {
        "id": "ba1c4dd6-872d-496d-94f1-adfd33ee23a9"
      },
      "source": [
        "### Summary and Concluding Thoughts\n",
        "\n",
        "Vectors are more than abstract mathematical concepts; they are practical tools across disciplines.\n",
        "Understanding vectors enables us to model and solve complex problems, from infrastructure design\n",
        "to advancements in machine learning and quantum computing. Their simplicity and versatility make\n",
        "them indispensable in STEM fields."
      ]
    },
    {
      "cell_type": "markdown",
      "id": "96a343a9-1152-43a0-b5b0-84cfa197160a",
      "metadata": {
        "id": "96a343a9-1152-43a0-b5b0-84cfa197160a"
      },
      "source": [
        "## Activity: Vector Field Visualization for Beginners\n",
        "**Objective:** Create a simple 2D vector field visualization using Python.\n",
        "**Duration:** Approximately 20 minutes\n",
        "**Tools Required:** Python, basic Python syntax knowledge."
      ]
    },
    {
      "cell_type": "markdown",
      "id": "38bd2fcb-c9ac-44cb-bfc5-4191145895a3",
      "metadata": {
        "id": "38bd2fcb-c9ac-44cb-bfc5-4191145895a3"
      },
      "source": [
        "**Steps**"
      ]
    },
    {
      "cell_type": "markdown",
      "id": "9a121f0f-7e32-40b9-8f81-79199b2c7ebb",
      "metadata": {
        "id": "9a121f0f-7e32-40b9-8f81-79199b2c7ebb"
      },
      "source": [
        "1.  **Install Libraries (for local environment):**\n",
        "    -   Command: `pip install numpy matplotlib`"
      ]
    },
    {
      "cell_type": "markdown",
      "id": "ac03808c-e5c3-45ce-909e-d1adf62dc9b2",
      "metadata": {
        "id": "ac03808c-e5c3-45ce-909e-d1adf62dc9b2"
      },
      "source": [
        "2.  **Start Python Environment (jupyter-lab / colab):**\n",
        "    -   Import libraries: `numpy` and `matplotlib`"
      ]
    },
    {
      "cell_type": "markdown",
      "id": "27c9b228-6a54-4471-82f2-e8d259a2293e",
      "metadata": {
        "id": "27c9b228-6a54-4471-82f2-e8d259a2293e"
      },
      "source": [
        "3.  **Create a Grid:**\n",
        "    -   Use `np.linspace` and `np.meshgrid`"
      ]
    },
    {
      "cell_type": "markdown",
      "id": "c7280786-de75-4f08-81cc-85ff553d9e84",
      "metadata": {
        "id": "c7280786-de75-4f08-81cc-85ff553d9e84"
      },
      "source": [
        "4.  **Define the Vector Field:**\n",
        "    -   Create a circular pattern with `-Y` and `X`"
      ]
    },
    {
      "cell_type": "markdown",
      "id": "aaedfb28-14cb-4417-87db-18e3b67fe9a6",
      "metadata": {
        "id": "aaedfb28-14cb-4417-87db-18e3b67fe9a6"
      },
      "source": [
        "5.  **Plot the Vector Field:**\n",
        "    -   Use `plt.quiver`, `plt.xlim`, `plt.ylim`, `plt.title`, `plt.xlabel`, `plt.ylabel`, and `plt.show`"
      ]
    },
    {
      "cell_type": "markdown",
      "id": "1aff0b3c-a520-4327-b13a-b8670e010d78",
      "metadata": {
        "id": "1aff0b3c-a520-4327-b13a-b8670e010d78"
      },
      "source": [
        "6.  **Analyze Your Plot:**\n",
        "    -   Observe the circular pattern and vector lengths."
      ]
    },
    {
      "cell_type": "markdown",
      "id": "3bb8892d-6126-4e46-b8ea-a011be99ceac",
      "metadata": {
        "id": "3bb8892d-6126-4e46-b8ea-a011be99ceac"
      },
      "source": [
        "### Solution:\n",
        "\n",
        "Use matplotlib to visualize the vectors and their operations.\n",
        "```python\n",
        "import matplotlib.pyplot as plt\n",
        "\n",
        "# Plotting the original vectors\n",
        "plt.quiver(0, 0, x1[0], x1[1], angles='xy', scale_units='xy', scale=1, color='red')\n",
        "plt.quiver(0, 0, y1[0], y1[1], angles='xy', scale_units='xy', scale=1, color='blue')\n",
        "\n",
        "# Plotting the result of adding the vectors\n",
        "plt.quiver(0, 0, x_add[0], x_add[1], angles='xy', scale_units='xy', scale=1, color='green')\n",
        "\n",
        "plt.xlim(-2, 10)\n",
        "plt.ylim(-2, 10)\n",
        "plt.grid()\n",
        "plt.show()\n",
        "```"
      ]
    },
    {
      "cell_type": "code",
      "source": [
        "import matplotlib.pyplot as plt\n",
        "\n",
        "print(x1)\n",
        "print(y1)\n",
        "print(x_add)\n",
        "\n",
        "# Plotting the original vectors\n",
        "plt.quiver(0, 0, x1[0], x1[1], angles='xy', scale_units='xy', scale=1, color='red')\n",
        "plt.quiver(0, 0, y1[0], y1[1], angles='xy', scale_units='xy', scale=1, color='blue')\n",
        "\n",
        "# Plotting the result of adding the vectors\n",
        "plt.quiver(0, 0, x_add[0], x_add[1], angles='xy', scale_units='xy', scale=1, color='green')\n",
        "\n",
        "plt.xlim(-2, 10)\n",
        "plt.ylim(-2, 10)\n",
        "plt.grid()\n",
        "plt.show()"
      ],
      "metadata": {
        "colab": {
          "base_uri": "https://localhost:8080/",
          "height": 487
        },
        "id": "YiO0qWV1-Jhg",
        "outputId": "481efd6d-11e1-43ba-f9a7-7ab3cb9c0dd2"
      },
      "id": "YiO0qWV1-Jhg",
      "execution_count": 17,
      "outputs": [
        {
          "output_type": "stream",
          "name": "stdout",
          "text": [
            "[3 4]\n",
            "[1 2]\n",
            "[4 6]\n"
          ]
        },
        {
          "output_type": "display_data",
          "data": {
            "text/plain": [
              "<Figure size 640x480 with 1 Axes>"
            ],
            "image/png": "[encoded data removed]"
          },
          "metadata": {}
        }
      ]
    },
    {
      "cell_type": "markdown",
      "id": "38dab711-f4dc-4e35-9aee-19c769f6c76a",
      "metadata": {
        "id": "38dab711-f4dc-4e35-9aee-19c769f6c76a"
      },
      "source": [
        "## Hands-On Project: Implementing and Visualizing Vector Operations"
      ]
    },
    {
      "cell_type": "markdown",
      "id": "c8ae1210-2411-4397-9cf5-6c8c8265e4ae",
      "metadata": {
        "id": "c8ae1210-2411-4397-9cf5-6c8c8265e4ae"
      },
      "source": [
        "**Project Objective**:\n",
        "- To apply the concept of vector operations in a practical scenario and visualize the results using Python."
      ]
    },
    {
      "cell_type": "markdown",
      "id": "507b1b09-0e0e-4ebe-9ffc-8ffefb0c4439",
      "metadata": {
        "id": "507b1b09-0e0e-4ebe-9ffc-8ffefb0c4439"
      },
      "source": [
        "**Project Steps**:\n",
        "\n",
        "1. **Create Multiple Vectors**:\n",
        "   - Represent different data points as vectors.\n",
        "   - Perform addition, subtraction, and scalar multiplication.\n",
        "\n",
        "2. **Calculate and Visualize the Dot Product**:\n",
        "   - Calculate the dot product of vectors to understand their similarity.\n",
        "   - Plot these vectors to visualize how the dot product represents the angle between them."
      ]
    },
    {
      "cell_type": "markdown",
      "id": "caa70986-e32e-4432-b09e-ed2b85a14d21",
      "metadata": {
        "id": "caa70986-e32e-4432-b09e-ed2b85a14d21"
      },
      "source": [
        "**Project Code - Solution**\n",
        "```python\n",
        "# Hands-On Project: Vector Operations and Visualization\n",
        "\n",
        "import numpy as np\n",
        "import matplotlib.pyplot as plt\n",
        "\n",
        "# Step 1: Create vectors\n",
        "v1 = np.array([3, 2])\n",
        "v2 = np.array([1, 4])\n",
        "\n",
        "# Perform operations\n",
        "v_add = np.add(v1, v2)\n",
        "v_sub = np.subtract(v1, v2)\n",
        "scalar = 3\n",
        "v_scalar_mult = v1 * scalar\n",
        "\n",
        "# Step 2: Dot product\n",
        "dot_product = np.dot(v1, v2)\n",
        "\n",
        "# Visualization\n",
        "plt.quiver(0, 0, v1[0], v1[1], angles='xy', scale_units='xy', scale=1, color='r')\n",
        "plt.quiver(0, 0, v2[0], v2[1], angles='xy', scale_units='xy', scale=1, color='b')\n",
        "plt.quiver(0, 0, v_add[0], v_add[1], angles='xy', scale_units='xy', scale=1, color='g')\n",
        "plt.xlim(-2, 10)\n",
        "plt.ylim(-2, 10)\n",
        "plt.grid()\n",
        "plt.title('Vector Operations: Addition (Green), V1 (Red), V2 (Blue)')\n",
        "plt.show()\n",
        "\n",
        "# Print results\n",
        "print(\"Added Vectors:\", v_add)\n",
        "print(\"Subtracted Vectors:\", v_sub)\n",
        "print(\"Scalar Multiplication:\", v_scalar_mult)\n",
        "print(\"Dot Product:\", dot_product)\n",
        "```"
      ]
    },
    {
      "cell_type": "code",
      "source": [
        "# Hands-On Project: Vector Operations and Visualization\n",
        "\n",
        "import numpy as np\n",
        "import matplotlib.pyplot as plt\n",
        "\n",
        "# Step 1: Create vectors\n",
        "v1 = np.array([3, 2])\n",
        "v2 = np.array([1, 4])\n",
        "\n",
        "# Perform operations\n",
        "v_add = np.add(v1, v2)\n",
        "v_sub = np.subtract(v1, v2)\n",
        "scalar = 3\n",
        "v_scalar_mult = v1 * scalar\n",
        "\n",
        "# Step 2: Dot product\n",
        "dot_product = np.dot(v1, v2)\n",
        "\n",
        "# Set up plot\n",
        "plt.xlim(-4, 15)\n",
        "plt.ylim(-4, 15)\n",
        "plt.grid()\n",
        "plt.title('Vector Operations')\n",
        "plt.xlabel('X')\n",
        "plt.ylabel('Y')\n",
        "\n",
        "# Plot data\n",
        "plt.quiver(0, 0, v1[0], v1[1], angles='xy', scale_units='xy', scale=1, color='r', label='V2')\n",
        "plt.quiver(0, 0, v2[0], v2[1], angles='xy', scale_units='xy', scale=1, color='b', label='V1')\n",
        "plt.quiver(0, 0, v_add[0], v_add[1], angles='xy', scale_units='xy', scale=1, color='g', label='Add')\n",
        "plt.quiver(0, 0, v_sub[0], v_sub[1], angles='xy', scale_units='xy', scale=1, color='y', label='Sub')\n",
        "plt.quiver(0, 0, v_scalar_mult[0], v_scalar_mult[1], angles='xy', scale_units='xy', scale=1, color='m', label='Scalar Mult')\n",
        "plt.scatter(0, dot_product, color='c', label='Dot Product')\n",
        "\n",
        "plt.legend()\n",
        "plt.show()\n",
        "\n",
        "# Print results\n",
        "print(\"Added Vectors:\", v_add)\n",
        "print(\"Subtracted Vectors:\", v_sub)\n",
        "print(\"Scalar Multiplication:\", v_scalar_mult)\n",
        "print(\"Dot Product:\", dot_product)"
      ],
      "metadata": {
        "colab": {
          "base_uri": "https://localhost:8080/",
          "height": 541
        },
        "id": "w2vB_-sS-Q_K",
        "outputId": "6dcb0208-2f92-4855-9636-ba346a99bc1d"
      },
      "id": "w2vB_-sS-Q_K",
      "execution_count": 25,
      "outputs": [
        {
          "output_type": "display_data",
          "data": {
            "text/plain": [
              "<Figure size 640x480 with 1 Axes>"
            ],
            "image/png": "[encoded data removed]"
          },
          "metadata": {}
        },
        {
          "output_type": "stream",
          "name": "stdout",
          "text": [
            "Added Vectors: [4 6]\n",
            "Subtracted Vectors: [ 2 -2]\n",
            "Scalar Multiplication: [9 6]\n",
            "Dot Product: 11\n"
          ]
        }
      ]
    },
    {
      "cell_type": "markdown",
      "id": "087013ca-5e15-4055-97db-ee6715d17fa1",
      "metadata": {
        "jp-MarkdownHeadingCollapsed": true,
        "tags": [],
        "id": "087013ca-5e15-4055-97db-ee6715d17fa1"
      },
      "source": [
        "### Further Resources\n",
        "\n",
        "-   **Khan Academy's Linear Algebra Course**: [Vectors and spaces](https://www.khanacademy.org/math/linear-algebra/vectors-and-spaces)\n",
        "-   **NumPy Documentation**: [NumPy for Vector Operations](https://numpy.org/doc/stable/user/quickstart.html)\n",
        "-   **Matplotlib Documentation**: [Matplotlib for Plotting](https://matplotlib.org/stable/contents.html)"
      ]
    }
  ],
  "metadata": {
    "kernelspec": {
      "display_name": "Python 3 (ipykernel)",
      "language": "python",
      "name": "python3"
    },
    "language_info": {
      "codemirror_mode": {
        "name": "ipython",
        "version": 3
      },
      "file_extension": ".py",
      "mimetype": "text/x-python",
      "name": "python",
      "nbconvert_exporter": "python",
      "pygments_lexer": "ipython3",
      "version": "3.11.5"
    },
    "toc-showtags": false,
    "colab": {
      "provenance": [],
      "toc_visible": true
    }
  },
  "nbformat": 4,
  "nbformat_minor": 5
}