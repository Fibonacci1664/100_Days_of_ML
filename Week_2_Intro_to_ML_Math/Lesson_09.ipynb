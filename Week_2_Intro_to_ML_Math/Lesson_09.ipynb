{
  "cells": [
    {
      "cell_type": "markdown",
      "id": "7a734fc9-d240-4cd1-a3f1-3b0c8786576b",
      "metadata": {
        "id": "7a734fc9-d240-4cd1-a3f1-3b0c8786576b"
      },
      "source": [
        "# Day 9: Calculus - Integrals, Fundamental Theorems, and Applications in Machine Learning\n",
        "\n",
        "## Objective\n",
        "\n",
        "Deepen your understanding of integrals in calculus, their foundational principles, and their profound applications, particularly in Machine Learning (ML). Learn how to perform basic integrations in Python and explore how integrals contribute to various ML techniques.\n",
        "\n",
        "## Prerequisites\n",
        "\n",
        "-   Proficiency in Python programming.\n",
        "-   Fundamental knowledge of algebra, pre-calculus concepts, and calculus.\n",
        "-   Eagerness to explore mathematical principles and apply them to real-world scenarios.\n",
        "\n",
        "## Introduction to Integrals\n",
        "\n",
        "Integrals, pivotal in calculus, represent the accumulation of quantities, akin to summing up infinitesimally small pieces to find areas under curves or the total quantity accumulated over an interval. They play a crucial role not just in physics and engineering but also in data science and ML for understanding distributions, optimizing functions, and much more."
      ]
    },
    {
      "cell_type": "markdown",
      "id": "433c4f3a-750a-4d7b-815a-cf0ea1d1e1b2",
      "metadata": {
        "id": "433c4f3a-750a-4d7b-815a-cf0ea1d1e1b2"
      },
      "source": [
        "## Mathematical Concept of Integrals\n",
        "\n",
        "-   **Definite Integrals:** Compute the accumulation of a quantity, such as the area under a curve from point `a` to point `b`. Mathematically, the definite integral of a function `f(x)` from `a` to `b` is denoted as:\n",
        "    \n",
        "$$∫^a_b f(x) dx$$\n",
        "    \n",
        "-   **Indefinite Integrals (Antiderivatives):** Represent a family of functions whose derivatives give the original function. An indefinite integral of a function `f(x)` is represented as:\n",
        "    \n",
        "$$∫f(x) dx$$"
      ]
    },
    {
      "cell_type": "markdown",
      "id": "2b9c8fb3-9218-40d2-8b83-73874f78ab06",
      "metadata": {
        "id": "2b9c8fb3-9218-40d2-8b83-73874f78ab06"
      },
      "source": [
        "## Fundamental Theorems of Calculus\n",
        "\n",
        "-   **First Fundamental Theorem:** Connects differentiation and integration, asserting that if `f` is continuous on `[a, b]` and `F` is the indefinite integral of `f` on `[a, b]`, then:\n",
        "    \n",
        " $$F(b)−F(a)=∫^a_bf(x) dxF(b)−F(a)=∫^a_b​f(x)dx$$\n",
        "    \n",
        "-   **Second Fundamental Theorem:** Enables the evaluation of definite integrals by knowing an antiderivative of the function. If `F` is an antiderivative of continuous `f` on `[a, b]`, then:\n",
        "    \n",
        "$$∫^a_b f(x) dx=F(b)−F(a)$$"
      ]
    },
    {
      "cell_type": "markdown",
      "id": "7754cd37-cff4-4e90-a1d7-c39753833012",
      "metadata": {
        "id": "7754cd37-cff4-4e90-a1d7-c39753833012"
      },
      "source": [
        "## Application of Integrals in Machine Learning\n",
        "\n",
        "Integrals find extensive applications in ML and AI for:\n",
        "\n",
        "-   **Optimization Problems:** Integrals are used in calculating areas under the curve in ROC analysis, integral representations in loss functions, and in regularization terms to prevent overfitting.\n",
        "-   **Understanding Data Distributions:** Integrals help in defining continuous probability distributions, essential for calculating probabilities and expectations in statistical models.\n",
        "-   **Deep Learning:** In neural networks, integrals appear in backpropagation algorithms for computing gradients and in defining activation functions."
      ]
    },
    {
      "cell_type": "markdown",
      "id": "b64b2ec6-d195-422a-9699-5ae856e58023",
      "metadata": {
        "id": "b64b2ec6-d195-422a-9699-5ae856e58023"
      },
      "source": [
        "## Implementing Integrals using Python\n",
        "\n",
        "Python's `sympy` library is excellent for symbolic mathematics, including integration."
      ]
    },
    {
      "cell_type": "code",
      "execution_count": null,
      "id": "adbed56b-6413-4f20-a000-cc7c47998b12",
      "metadata": {
        "id": "adbed56b-6413-4f20-a000-cc7c47998b12"
      },
      "outputs": [],
      "source": [
        "# Step 1: Import Necessary Libraries\n",
        "\n",
        "import sympy as sp\n",
        "from sympy.abc import x"
      ]
    },
    {
      "cell_type": "code",
      "execution_count": 26,
      "id": "0b5c2534-9df9-4d89-a449-eee636f3ead5",
      "metadata": {
        "id": "0b5c2534-9df9-4d89-a449-eee636f3ead5"
      },
      "outputs": [],
      "source": [
        "# Step 2: Define the Function\n",
        "\n",
        "# Choose a function to integrate. For instance, let's consider `f(x) = x^2`.\n",
        "function = x**3 + (2*x**2) - 3*x"
      ]
    },
    {
      "cell_type": "code",
      "execution_count": 27,
      "id": "61e33d6c-0ba8-4b6b-bda3-dc7846ba755f",
      "metadata": {
        "colab": {
          "base_uri": "https://localhost:8080/"
        },
        "id": "61e33d6c-0ba8-4b6b-bda3-dc7846ba755f",
        "outputId": "147abeb1-5bef-4d0b-8fef-ae5bb95bef86"
      },
      "outputs": [
        {
          "output_type": "stream",
          "name": "stdout",
          "text": [
            "The indefinite integral of f(x) = x^3 + 2x^2 + 5 is: x**4/4 + 2*x**3/3 - 3*x**2/2\n"
          ]
        }
      ],
      "source": [
        "# Step 3: Compute the Indefinite Integral\n",
        "\n",
        "indefinite_integral = sp.integrate(function, x)\n",
        "\n",
        "print(f\"The indefinite integral of f(x) = x^3 + 2x^2 - 3x is: {indefinite_integral}\")"
      ]
    },
    {
      "cell_type": "code",
      "execution_count": 28,
      "id": "dfce3d8a-1d3f-4f52-aef3-5f4cf65779f4",
      "metadata": {
        "colab": {
          "base_uri": "https://localhost:8080/"
        },
        "id": "dfce3d8a-1d3f-4f52-aef3-5f4cf65779f4",
        "outputId": "3074c9d2-239f-49e4-a007-54ce30507f9b"
      },
      "outputs": [
        {
          "output_type": "stream",
          "name": "stdout",
          "text": [
            "The definite integral of f(x) = x^3 + 2x^2 + 5 from 1 to 3 is: 76/3\n"
          ]
        }
      ],
      "source": [
        "# Step 4: Compute the Definite Integral\n",
        "\n",
        "# Calculate the definite integral of `f(x) = x^3 + 2x^2 - 3x` from `1` to `3`:\n",
        "a, b = 1, 3\n",
        "definite_integral = sp.integrate(function, (x, a, b))\n",
        "\n",
        "print(f\"The definite integral of f(x) = f(x) = x^3 + 2x^2 - 3x from {a} to {b} is: {definite_integral}\")"
      ]
    },
    {
      "cell_type": "code",
      "execution_count": 45,
      "id": "cb018a3e-d58f-4d77-b87a-c39becf38fd4",
      "metadata": {
        "tags": [],
        "colab": {
          "base_uri": "https://localhost:8080/",
          "height": 487
        },
        "id": "cb018a3e-d58f-4d77-b87a-c39becf38fd4",
        "outputId": "27938182-bf32-43a6-f62f-a8acd20d304d"
      },
      "outputs": [
        {
          "output_type": "display_data",
          "data": {
            "text/plain": [
              "<Figure size 500x500 with 1 Axes>"
            ],
            "image/png": "[encoded data removed]"
          },
          "metadata": {}
        }
      ],
      "source": [
        "# Step 5: Visualizing the Function and its Integral\n",
        "\n",
        "# Graph the function and the area under the curve between `x = 1` and `x = 3`:\n",
        "import numpy as np\n",
        "import matplotlib.pyplot as plt\n",
        "\n",
        "# Define the function and integral as lambda functions\n",
        "func_lambda = sp.lambdify(x, function, 'numpy')\n",
        "integral_lambda = sp.lambdify(x, indefinite_integral, 'numpy')\n",
        "\n",
        "# Generate x values\n",
        "x_vals = np.linspace(-4, 4, 100)\n",
        "y_vals = func_lambda(x_vals)\n",
        "\n",
        "# Plotting\n",
        "plt.figure(figsize=(5, 5))\n",
        "plt.plot(x_vals, y_vals, label='f(x) = x^3 + 2x^2 - 3x', color='blue')\n",
        "plt.fill_between(x_vals, y_vals, where=[(x_val >= a and x_val <= b) for x_val in x_vals], color='red', alpha=0.5)\n",
        "plt.title('Function and Area Under Curve')\n",
        "plt.xlabel('x')\n",
        "plt.ylabel('f(x)')\n",
        "plt.legend()\n",
        "plt.grid(True)\n",
        "plt.show()"
      ]
    },
    {
      "cell_type": "code",
      "source": [],
      "metadata": {
        "id": "TmIJiUtLJaTT"
      },
      "id": "TmIJiUtLJaTT",
      "execution_count": null,
      "outputs": []
    }
  ],
  "metadata": {
    "kernelspec": {
      "display_name": "Python 3 (ipykernel)",
      "language": "python",
      "name": "python3"
    },
    "language_info": {
      "codemirror_mode": {
        "name": "ipython",
        "version": 3
      },
      "file_extension": ".py",
      "mimetype": "text/x-python",
      "name": "python",
      "nbconvert_exporter": "python",
      "pygments_lexer": "ipython3",
      "version": "3.11.5"
    },
    "colab": {
      "provenance": []
    }
  },
  "nbformat": 4,
  "nbformat_minor": 5
}