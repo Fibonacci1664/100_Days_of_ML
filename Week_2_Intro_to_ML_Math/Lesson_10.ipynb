{
  "cells": [
    {
      "cell_type": "markdown",
      "id": "fe7d7b8c-1919-48fb-a238-aeda43ced3b1",
      "metadata": {
        "id": "fe7d7b8c-1919-48fb-a238-aeda43ced3b1"
      },
      "source": [
        "# Day 10: Probability and Statistics - Basic Concepts, Relevant Distributions - Expanded\n",
        "\n",
        "## Objective\n",
        "\n",
        "Deepen your mastery of probability and statistics, crucial for analyzing data and making data-driven decisions. This lesson provides a thorough exploration of the core concepts, various distributions, and practical applications using Python, equipping you with the skills to perform detailed statistical analysis and understand data distributions.\n",
        "\n",
        "## Prerequisites\n",
        "\n",
        "-   Proficient in Python programming.\n",
        "-   Basic understanding of algebra and mathematical concepts.\n",
        "-   A keen interest in data analysis and interpretation."
      ]
    },
    {
      "cell_type": "markdown",
      "id": "0ea11945-530d-40c4-a21b-cea02bd62c2f",
      "metadata": {
        "id": "0ea11945-530d-40c4-a21b-cea02bd62c2f"
      },
      "source": [
        "### Introduction to Probability and Statistics\n",
        "\n",
        "Probability and statistics are interrelated disciplines that help us quantify uncertainty, analyze random phenomena, and make sense of data.\n",
        "\n",
        "#### Probability: The Mathematics of Uncertainty\n",
        "\n",
        "Probability offers a framework for quantifying the uncertainty of events. It's foundational for statistical inference, where we use data to make predictions about broader populations.\n",
        "\n",
        "-   **Random Experiment**: An experiment where the outcome cannot be predicted with certainty.\n",
        "-   **Sample Space (S)**: The set of all possible outcomes of a random experiment.\n",
        "-   **Event (E)**: Any subset of the sample space.\n",
        "-   **Probability of an Event (P(E))**: A measure ranging from 0 (impossibility) to 1 (certainty), denoting the likelihood of occurrence of an event."
      ]
    },
    {
      "cell_type": "markdown",
      "id": "1bf5f716-1dc0-4031-a624-eabdb5e8ef22",
      "metadata": {
        "id": "1bf5f716-1dc0-4031-a624-eabdb5e8ef22"
      },
      "source": [
        "#### Statistics: The Science of Data\n",
        "\n",
        "Statistics is the practice of collecting, analyzing, interpreting, and presenting data. It's about extracting meaning from data and making informed decisions.\n",
        "\n",
        "-   **Descriptive Statistics**: Methods for summarizing and organizing data. Includes measures like mean, median, mode, variance, and standard deviation.\n",
        "-   **Inferential Statistics**: Techniques for making predictions or inferences about a population based on a sample. It includes hypothesis testing, confidence intervals, and regression analysis."
      ]
    },
    {
      "cell_type": "markdown",
      "id": "a5fce39f-a954-4599-b40d-80c1987a662d",
      "metadata": {
        "id": "a5fce39f-a954-4599-b40d-80c1987a662d"
      },
      "source": [
        "### Understanding Distributions\n",
        "\n",
        "Distributions are fundamental in statistics as they describe how data points are likely to be distributed.\n",
        "\n",
        "-   **Uniform Distribution**: The simplest probability distribution where every event has an equal chance of occurring.\n",
        "-   **Normal (Gaussian) Distribution**: Many natural phenomena follow this distribution. It's characterized by its mean (μ) and standard deviation (σ).\n",
        "-   **Binomial Distribution**: Describes the number of successes in a fixed number of independent Bernoulli trials, each with its own success probability.\n",
        "-   **Poisson Distribution**: Models the number of times an event occurs in a fixed interval of time or space, given the average number of times the event occurs over that interval"
      ]
    },
    {
      "cell_type": "markdown",
      "id": "a11f1848-3803-456e-8572-b7a5d4e1b08e",
      "metadata": {
        "id": "a11f1848-3803-456e-8572-b7a5d4e1b08e"
      },
      "source": [
        "### Implementing Probability and Statistics in Python\n",
        "\n",
        "Let's dive into practical implementation using Python's powerful libraries.\n",
        "\n"
      ]
    },
    {
      "cell_type": "markdown",
      "id": "4297619d-5e6f-440d-991e-27636b29e583",
      "metadata": {
        "id": "4297619d-5e6f-440d-991e-27636b29e583"
      },
      "source": [
        "#### Step 1: Import Necessary Libraries"
      ]
    },
    {
      "cell_type": "code",
      "execution_count": 1,
      "id": "d9d1e48c-5886-475d-9b08-dbd02182a5cf",
      "metadata": {
        "id": "d9d1e48c-5886-475d-9b08-dbd02182a5cf"
      },
      "outputs": [],
      "source": [
        "import numpy as np\n",
        "import scipy.stats as stats\n",
        "import pandas as pd\n",
        "import matplotlib.pyplot as plt"
      ]
    },
    {
      "cell_type": "markdown",
      "id": "f2170a40-63c8-4923-8e17-a456c9696b75",
      "metadata": {
        "id": "f2170a40-63c8-4923-8e17-a456c9696b75"
      },
      "source": [
        "#### Step 2: Descriptive Statistics\n",
        "\n",
        "- Understanding the central tendency and dispersion in your data."
      ]
    },
    {
      "cell_type": "code",
      "execution_count": 2,
      "id": "8a4b0181-ce99-4287-9cd4-48a2e21662ce",
      "metadata": {
        "colab": {
          "base_uri": "https://localhost:8080/"
        },
        "id": "8a4b0181-ce99-4287-9cd4-48a2e21662ce",
        "outputId": "0ed411e6-231b-4170-f7fb-b077f4fc706f"
      },
      "outputs": [
        {
          "output_type": "stream",
          "name": "stdout",
          "text": [
            "Mean: 5.5, Median: 5.5, Mode: 1, Range: 9, Variance: 8.25, Standard Deviation: 2.8722813232690143\n"
          ]
        }
      ],
      "source": [
        "# Sample data\n",
        "data = np.array([1, 2, 3, 4, 5, 6, 7, 8, 9, 10])\n",
        "\n",
        "# Central Tendency\n",
        "mean = np.mean(data)\n",
        "median = np.median(data)\n",
        "mode = stats.mode(data)[0]\n",
        "\n",
        "# Dispersion\n",
        "range_ = np.ptp(data)\n",
        "variance = np.var(data)\n",
        "std_dev = np.std(data)\n",
        "\n",
        "print(f\"Mean: {mean}, Median: {median}, Mode: {mode}, Range: {range_}, Variance: {variance}, Standard Deviation: {std_dev}\")"
      ]
    },
    {
      "cell_type": "markdown",
      "id": "739dbedc-2e52-42d3-a65e-5d9f80cee611",
      "metadata": {
        "id": "739dbedc-2e52-42d3-a65e-5d9f80cee611"
      },
      "source": [
        "#### Step 3: Understanding Distributions\n",
        "\n",
        "- Visualize and understand different probability distributions."
      ]
    },
    {
      "cell_type": "markdown",
      "id": "723e813d-aa02-4c41-a8dc-6bfde5c33f1e",
      "metadata": {
        "id": "723e813d-aa02-4c41-a8dc-6bfde5c33f1e"
      },
      "source": [
        "  **Normal Distribution Example**"
      ]
    },
    {
      "cell_type": "code",
      "execution_count": 6,
      "id": "d03761e0-34ae-4cc2-84d6-1a44d899f9a2",
      "metadata": {
        "colab": {
          "base_uri": "https://localhost:8080/",
          "height": 452
        },
        "id": "d03761e0-34ae-4cc2-84d6-1a44d899f9a2",
        "outputId": "75a605ce-03bf-4f46-b1d3-4444293cdcbc"
      },
      "outputs": [
        {
          "output_type": "display_data",
          "data": {
            "text/plain": [
              "<Figure size 640x480 with 1 Axes>"
            ],
            "image/png": "[encoded data removed]"
          },
          "metadata": {}
        }
      ],
      "source": [
        "# Parameters\n",
        "mu, sigma = 0, 0.1\n",
        "\n",
        "# Generating random values\n",
        "s = np.random.normal(mu, sigma, 1000)\n",
        "\n",
        "# Plotting\n",
        "count, bins, ignored = plt.hist(s, 100, density=True)\n",
        "plt.plot(bins, 1/(sigma * np.sqrt(2 * np.pi)) * np.exp( - (bins - mu)**2 / (2 * sigma**2) ), linewidth=2, color='r')\n",
        "plt.title('Normal Distribution')\n",
        "plt.show()"
      ]
    },
    {
      "cell_type": "markdown",
      "id": "26f703c7-89d6-4371-b39d-0532d067c02d",
      "metadata": {
        "id": "26f703c7-89d6-4371-b39d-0532d067c02d"
      },
      "source": [
        "  **Binomial Distribution Example**"
      ]
    },
    {
      "cell_type": "code",
      "execution_count": 8,
      "id": "4c74fef8-f4b2-48e7-a775-a89a89d3a73e",
      "metadata": {
        "colab": {
          "base_uri": "https://localhost:8080/",
          "height": 452
        },
        "id": "4c74fef8-f4b2-48e7-a775-a89a89d3a73e",
        "outputId": "283be58c-6901-4b1d-83ee-4f64895bcc78"
      },
      "outputs": [
        {
          "output_type": "display_data",
          "data": {
            "text/plain": [
              "<Figure size 640x480 with 1 Axes>"
            ],
            "image/png": "[encoded data removed]"
          },
          "metadata": {}
        }
      ],
      "source": [
        "# Parameters\n",
        "n, p = 10, 0.5\n",
        "\n",
        "# Generating random values\n",
        "s = np.random.binomial(n, p, 1000)\n",
        "\n",
        "# Plotting\n",
        "plt.hist(s, bins=100, density=True)\n",
        "plt.title('Binomial Distribution')\n",
        "plt.show()"
      ]
    },
    {
      "cell_type": "markdown",
      "id": "6d2293bf-ac18-4ba6-90fb-b8068bbfa38f",
      "metadata": {
        "id": "6d2293bf-ac18-4ba6-90fb-b8068bbfa38f"
      },
      "source": [
        "  **Poisson Distribution Example**"
      ]
    },
    {
      "cell_type": "code",
      "execution_count": 10,
      "id": "5786dd82-19f3-43b6-b3b5-82427251429d",
      "metadata": {
        "colab": {
          "base_uri": "https://localhost:8080/",
          "height": 452
        },
        "id": "5786dd82-19f3-43b6-b3b5-82427251429d",
        "outputId": "38621c60-08a3-46c2-8ea3-3dbd50bbc3b7"
      },
      "outputs": [
        {
          "output_type": "display_data",
          "data": {
            "text/plain": [
              "<Figure size 640x480 with 1 Axes>"
            ],
            "image/png": "[encoded data removed]"
          },
          "metadata": {}
        }
      ],
      "source": [
        "# Parameters\n",
        "lambda_ = 5\n",
        "\n",
        "# Generating random values\n",
        "s = np.random.poisson(lambda_, 1000)\n",
        "\n",
        "# Plotting\n",
        "plt.hist(s, bins=100, density=True)\n",
        "plt.title('Poisson Distribution')\n",
        "plt.show()"
      ]
    },
    {
      "cell_type": "markdown",
      "id": "a6f7c9fb-829e-49e0-b842-97a4c7a409eb",
      "metadata": {
        "id": "a6f7c9fb-829e-49e0-b842-97a4c7a409eb"
      },
      "source": [
        "#### Step 4: Inferential Statistics\n",
        "\n",
        "- Inferential statistics help us make predictions about a population based on sample data."
      ]
    },
    {
      "cell_type": "code",
      "execution_count": 11,
      "id": "8dca03a2-7fe7-4a2d-b0bd-2cd494a1f273",
      "metadata": {
        "colab": {
          "base_uri": "https://localhost:8080/"
        },
        "id": "8dca03a2-7fe7-4a2d-b0bd-2cd494a1f273",
        "outputId": "9f127702-857b-409f-c294-d0641916cd5f"
      },
      "outputs": [
        {
          "output_type": "stream",
          "name": "stdout",
          "text": [
            "T-statistic: 0.5222329678670935, P-value: 0.614117254808394\n",
            "Fail to Reject Null Hypothesis\n"
          ]
        }
      ],
      "source": [
        "# Hypothesis Testing Example\n",
        "# Null Hypothesis: The sample comes from a population with a mean of μ_0\n",
        "# Alternative Hypothesis: The sample does not come from a population with a mean of μ_0\n",
        "\n",
        "# Parameters\n",
        "mu_0 = 5\n",
        "alpha = 0.05  # Significance level\n",
        "\n",
        "# T-test\n",
        "t_statistic, p_value = stats.ttest_1samp(data, mu_0)\n",
        "\n",
        "print(f\"T-statistic: {t_statistic}, P-value: {p_value}\")\n",
        "print(\"Reject Null Hypothesis\" if p_value < alpha else \"Fail to Reject Null Hypothesis\")"
      ]
    },
    {
      "cell_type": "markdown",
      "id": "df6a1506-8453-4a97-86ef-2e63ab21d31a",
      "metadata": {
        "id": "df6a1506-8453-4a97-86ef-2e63ab21d31a"
      },
      "source": [
        "### Conclusion\n",
        "\n",
        "Probability and statistics are indispensable in the field of data analysis and decision-making. This lesson provided a deep dive into the core concepts, distributions, and practical Python implementations, laying the groundwork for rigorous data analysis and interpretation."
      ]
    },
    {
      "cell_type": "markdown",
      "id": "9b8c94a4-5ffc-497a-9d09-bcf0cf03c2a4",
      "metadata": {
        "id": "9b8c94a4-5ffc-497a-9d09-bcf0cf03c2a4"
      },
      "source": [
        "### Further Resources\n",
        "\n",
        "https://www.khanacademy.org/math/statistics-probability\n",
        "\n",
        "https://www.probabilitycourse.com/preface.php\n",
        "\n",
        "https://www.vfu.bg/en/e-Learning/Math--Bertsekas_Tsitsiklis_Introduction_to_probability.pdf\n",
        "\n",
        "https://www.youtube.com/watch?v=1uW3qMFA9Ho&list=PLUl4u3cNGP60hI9ATjSFgLZpbNJ7myAg6\n",
        "\n",
        "https://morningside.libguides.com/math-stats-resources/probability-statistics"
      ]
    }
  ],
  "metadata": {
    "kernelspec": {
      "display_name": "Python 3 (ipykernel)",
      "language": "python",
      "name": "python3"
    },
    "language_info": {
      "codemirror_mode": {
        "name": "ipython",
        "version": 3
      },
      "file_extension": ".py",
      "mimetype": "text/x-python",
      "name": "python",
      "nbconvert_exporter": "python",
      "pygments_lexer": "ipython3",
      "version": "3.11.5"
    },
    "colab": {
      "provenance": []
    }
  },
  "nbformat": 4,
  "nbformat_minor": 5
}